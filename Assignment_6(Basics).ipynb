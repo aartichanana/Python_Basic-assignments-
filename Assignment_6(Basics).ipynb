{
 "cells": [
  {
   "cell_type": "markdown",
   "id": "6bc40fe6",
   "metadata": {},
   "source": [
    "Q_(1):- What are escape characters, and how do you use them?                                                                   \n",
    "Sol_1:- Escape characters are those characters which are used to perform some specific task. We can use them by using a backslash (\\) followed by the character you want to insert.  "
   ]
  },
  {
   "cell_type": "markdown",
   "id": "3e3c1479",
   "metadata": {},
   "source": [
    "Q_(2):- What do the escape characters n and t stand for?                                                                       \n",
    "Sol_2:- Escape character n (\\n) means to insert a new line.                                                                     \n",
    "Escape character t (\\t) means to insert a tab."
   ]
  },
  {
   "cell_type": "markdown",
   "id": "6733ec74",
   "metadata": {},
   "source": [
    "Q_(3):- What is the way to include backslash characters in a string?                                                           \n",
    "Sol_3:- In a string we can insert backslash character where we want to use their functioning. for example- i want to use tab between two words so i will put \\t between those words."
   ]
  },
  {
   "cell_type": "code",
   "execution_count": 2,
   "id": "a11943b8",
   "metadata": {},
   "outputs": [
    {
     "name": "stdout",
     "output_type": "stream",
     "text": [
      "Aarti\tchanana\n"
     ]
    }
   ],
   "source": [
    "print(\"Aarti\\tchanana\")"
   ]
  },
  {
   "cell_type": "markdown",
   "id": "3e21477f",
   "metadata": {},
   "source": [
    "Q_(4):- The string \"Howl's Moving Castle\" is a correct value. Why isn't the single quote character in the word Howl's not escaped a problem?                                                                                                             \n",
    "Sol_4:- Because this sentence is surrounded by double quotation. So single quote will not affected. "
   ]
  },
  {
   "cell_type": "markdown",
   "id": "cbc747c7",
   "metadata": {},
   "source": [
    "Q_(5):- How do you write a string of newlines if you don't want to use the n character?                                         \n",
    "Sol_:- Instead of using n character we can use"
   ]
  },
  {
   "cell_type": "markdown",
   "id": "0eeb385e",
   "metadata": {},
   "source": [
    "Q_(6):-6. What are the values of the given expressions?\n",
    "'Hello, world!'[1]     \n",
    "'Hello, world!'[0:5]     \n",
    "'Hello, world!'[:5]     \n",
    "'Hello, world!'[3:]                                                                                                             \n",
    "Sol_6:- \n"
   ]
  },
  {
   "cell_type": "code",
   "execution_count": 3,
   "id": "40ccb89a",
   "metadata": {},
   "outputs": [
    {
     "data": {
      "text/plain": [
       "'e'"
      ]
     },
     "execution_count": 3,
     "metadata": {},
     "output_type": "execute_result"
    }
   ],
   "source": [
    "'Hello, world!'[1]      # it prints value at index 1"
   ]
  },
  {
   "cell_type": "code",
   "execution_count": 4,
   "id": "5ceaeca2",
   "metadata": {},
   "outputs": [
    {
     "data": {
      "text/plain": [
       "'Hello'"
      ]
     },
     "execution_count": 4,
     "metadata": {},
     "output_type": "execute_result"
    }
   ],
   "source": [
    "'Hello, world!'[0:5]    # it prints value from index 0 to 4 and stops at index 5"
   ]
  },
  {
   "cell_type": "code",
   "execution_count": 5,
   "id": "ad07b9a5",
   "metadata": {},
   "outputs": [
    {
     "data": {
      "text/plain": [
       "'Hello'"
      ]
     },
     "execution_count": 5,
     "metadata": {},
     "output_type": "execute_result"
    }
   ],
   "source": [
    "'Hello, world!'[:5]     # by default it starts from 0 index and prints upto 4, stops at index 5 "
   ]
  },
  {
   "cell_type": "code",
   "execution_count": 6,
   "id": "a1119656",
   "metadata": {},
   "outputs": [
    {
     "data": {
      "text/plain": [
       "'lo, world!'"
      ]
     },
     "execution_count": 6,
     "metadata": {},
     "output_type": "execute_result"
    }
   ],
   "source": [
    "'Hello, world!'[3:]     # prints from index 3 upto the length of the string"
   ]
  },
  {
   "cell_type": "markdown",
   "id": "84745e52",
   "metadata": {},
   "source": [
    "Q_(7):- . What are the values of the following expressions?                                                                     \n",
    "'Hello'.upper()                 \n",
    "'Hello'.upper().isupper()                      \n",
    "'Hello'.upper().lower()             \n",
    "Sol_7:- \n"
   ]
  },
  {
   "cell_type": "code",
   "execution_count": 7,
   "id": "deb5e2af",
   "metadata": {},
   "outputs": [
    {
     "data": {
      "text/plain": [
       "'HELLO'"
      ]
     },
     "execution_count": 7,
     "metadata": {},
     "output_type": "execute_result"
    }
   ],
   "source": [
    "'Hello'.upper()         # it convert all characters into uppercase"
   ]
  },
  {
   "cell_type": "code",
   "execution_count": 8,
   "id": "76e895c5",
   "metadata": {},
   "outputs": [
    {
     "data": {
      "text/plain": [
       "True"
      ]
     },
     "execution_count": 8,
     "metadata": {},
     "output_type": "execute_result"
    }
   ],
   "source": [
    "'Hello'.upper().isupper()   # firstly it convert into upper case then it check is the string in upper case or not"
   ]
  },
  {
   "cell_type": "code",
   "execution_count": 9,
   "id": "42d19d09",
   "metadata": {},
   "outputs": [
    {
     "data": {
      "text/plain": [
       "'hello'"
      ]
     },
     "execution_count": 9,
     "metadata": {},
     "output_type": "execute_result"
    }
   ],
   "source": [
    "'Hello'.upper().lower()     # firstly it convert into upper case then convert into lower case"
   ]
  },
  {
   "cell_type": "markdown",
   "id": "d680b9b0",
   "metadata": {},
   "source": [
    "Q_(8):- What are the values of the following expressions?     \n",
    "'Remember, remember, the fifth of July.'.split()           \n",
    "'-'.join('There can only one.'.split())      \n",
    "Sol_8:- \n"
   ]
  },
  {
   "cell_type": "code",
   "execution_count": 10,
   "id": "21b40d18",
   "metadata": {},
   "outputs": [
    {
     "data": {
      "text/plain": [
       "['Remember,', 'remember,', 'the', 'fifth', 'of', 'July.']"
      ]
     },
     "execution_count": 10,
     "metadata": {},
     "output_type": "execute_result"
    }
   ],
   "source": [
    "'Remember, remember, the fifth of July.'.split()  # here split() splits the string"
   ]
  },
  {
   "cell_type": "code",
   "execution_count": 11,
   "id": "9823dde8",
   "metadata": {},
   "outputs": [
    {
     "data": {
      "text/plain": [
       "'There-can-only-one.'"
      ]
     },
     "execution_count": 11,
     "metadata": {},
     "output_type": "execute_result"
    }
   ],
   "source": [
    "'-'.join('There can only one.'.split())            # here string firstly split and then join by - this symbol"
   ]
  },
  {
   "cell_type": "markdown",
   "id": "3d4919a2",
   "metadata": {},
   "source": [
    "Q_(9):- What are the methods for right-justifying, left-justifying, and centering a string?    \n",
    "Sol_9:- Right justifying of a string method used to return a new string and substitute the given filler to the right of the original string. Its syntax is rjust(width,filler).   \n",
    "Left justifying of a string method used to return a new string and substitute the given filler to the left of the original string. Its syntax is ljust(width,filler).  \n",
    "Centuring a string method- It will center align the string, using a specified character as the filler. "
   ]
  },
  {
   "cell_type": "code",
   "execution_count": 28,
   "id": "1d999c89",
   "metadata": {},
   "outputs": [
    {
     "name": "stdout",
     "output_type": "stream",
     "text": [
      "** hi Aarti \n"
     ]
    }
   ],
   "source": [
    "#Right justifying of a string\n",
    "sr = \" hi Aarti \"\n",
    "print(sr.rjust(12,'*'))"
   ]
  },
  {
   "cell_type": "code",
   "execution_count": 29,
   "id": "64780f74",
   "metadata": {},
   "outputs": [
    {
     "name": "stdout",
     "output_type": "stream",
     "text": [
      " hi Aarti **\n"
     ]
    }
   ],
   "source": [
    "#Left justifying of a string\n",
    "srr = \" hi Aarti \"\n",
    "print(srr.ljust(12,'*'))"
   ]
  },
  {
   "cell_type": "code",
   "execution_count": 30,
   "id": "d4d4fe73",
   "metadata": {},
   "outputs": [
    {
     "name": "stdout",
     "output_type": "stream",
     "text": [
      "***** hi Aarti *****\n"
     ]
    }
   ],
   "source": [
    "# Centuring of a string\n",
    "sr = \" hi Aarti \"\n",
    "print(sr.center(20,'*'))"
   ]
  },
  {
   "cell_type": "markdown",
   "id": "0b8c6506",
   "metadata": {},
   "source": [
    "Q_(10):- What is the best way to remove whitespace characters from the start or end?   \n",
    "Sol_10:- strip() method removes given filler from start and end of the original string. And return the same string without whitespace."
   ]
  }
 ],
 "metadata": {
  "kernelspec": {
   "display_name": "Python 3",
   "language": "python",
   "name": "python3"
  },
  "language_info": {
   "codemirror_mode": {
    "name": "ipython",
    "version": 3
   },
   "file_extension": ".py",
   "mimetype": "text/x-python",
   "name": "python",
   "nbconvert_exporter": "python",
   "pygments_lexer": "ipython3",
   "version": "3.8.8"
  }
 },
 "nbformat": 4,
 "nbformat_minor": 5
}
