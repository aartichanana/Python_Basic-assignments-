{
 "cells": [
  {
   "cell_type": "markdown",
   "id": "54564714",
   "metadata": {},
   "source": [
    "Q_(1):- . What is the result of the code, and why?\n",
    ">>> def func(a, b=6, c=8):\n",
    "print(a, b, c)\n",
    ">>> func(1, 2)\n",
    "\n",
    "\n",
    "Sol_1:- In this given code a function func() is defined with three parameters a,b = 6,c = 8. The parameter a does not have a default value and it required during a call of func() function but b and c have default values so their arguments are optional. \n",
    "\n",
    "When we call func(1,2) function with some values, these values get assigned the arguments according to their position. 1 assigned to a and 2 will overwrite the b having default value which is 6 and c has its default value 8. (Finally, value of a=1, b=2 and c=8)\n",
    "\n",
    "After calling the function control goes inside the function and then it prints the value of a,b,c which will print as output as 1 2 8."
   ]
  },
  {
   "cell_type": "code",
   "execution_count": 1,
   "id": "1cd69602",
   "metadata": {},
   "outputs": [
    {
     "name": "stdout",
     "output_type": "stream",
     "text": [
      "1 2 8\n"
     ]
    }
   ],
   "source": [
    "def func(a, b=6, c=8):\n",
    "    print(a, b, c)\n",
    "func(1, 2)\n"
   ]
  },
  {
   "cell_type": "markdown",
   "id": "488d6cb6",
   "metadata": {},
   "source": [
    "Q_(2):- What is the result of this code, and why?\n",
    ">>> def func(a, b, c=5):\n",
    "print(a, b, c)\t\n",
    ">>> func(1, c=3, b=2)\n",
    "\n",
    "Sol_2:- When we call func(1,c=3, b=2) function we can see here we are passing one positional argument(1) and two keyword argument(c=3 and b=2) which get assigned to the function func(). The value assigned to a is 1 and b is 2. But in case of c, it will overwrite the value over its default value and then value of c will become 3.(finally a=1, b=2, c=3). \n",
    "\n",
    "After calling the function control goes inside the function and then it prints the value of a,b,c which will print as output as 1 2 3."
   ]
  },
  {
   "cell_type": "code",
   "execution_count": 2,
   "id": "772de204",
   "metadata": {},
   "outputs": [
    {
     "name": "stdout",
     "output_type": "stream",
     "text": [
      "1 2 3\n"
     ]
    }
   ],
   "source": [
    "def func(a, b, c=5):\n",
    "    print(a, b, c)\n",
    "func(1, c=3, b=2)"
   ]
  },
  {
   "cell_type": "markdown",
   "id": "e1075da7",
   "metadata": {},
   "source": [
    "Q_(3):-How about this code: what is its result, and why?\n",
    ">>> def func(a, *pargs):\n",
    "print(a, pargs)\t\n",
    ">>> func(1, 2, 3)\n",
    "\n",
    "\n",
    "Sol_3:- Here func(a, *pargs) function is defined with a as first parameter a and *pargs as second parameter which allows us to pass variable length argument list to the func() function.\n",
    "\n",
    "When we call func(1,2,3) it means value 1 is assigned to a which is first parameter and the remaining arguments get wrapped up into a tuple as(2, 3) in pargs before being passed into the function. \n",
    "\n",
    "After calling the function control goes inside the function and then it prints the value of a and pargs which will print as output as 1 (2, 3)."
   ]
  },
  {
   "cell_type": "code",
   "execution_count": 3,
   "id": "1ec957a5",
   "metadata": {},
   "outputs": [
    {
     "name": "stdout",
     "output_type": "stream",
     "text": [
      "1 (2, 3)\n"
     ]
    }
   ],
   "source": [
    "def func(a, *pargs):\n",
    "    print(a, pargs)\n",
    "func(1, 2, 3)"
   ]
  },
  {
   "cell_type": "markdown",
   "id": "0b893111",
   "metadata": {},
   "source": [
    "Q_(4):- What does this code print, and why?\n",
    ">>> def func(a, **kargs):\n",
    "print(a, kargs)\n",
    ">>> func(a=1, c=3, b=2)\n",
    "\n",
    "Sol_4:- we have a function func() with a as first parameter and (** kargs) as second parameter which allows us to passvariable length of keyword arguments.\n",
    "\n",
    "When we call func(a=1,c=3,b=2), it contain keyword arguments it means a has value 1 and the remaining keyword arguments get wrapped up in dictionaries with variable argument length as {'c':3,'b':2} to the func() function.\n",
    "\n",
    "After calling the function control goes inside the function and then it prints the value of a and pargs which will print as output as 1 {'c':3,'b':2}."
   ]
  },
  {
   "cell_type": "code",
   "execution_count": 4,
   "id": "c9a289b6",
   "metadata": {},
   "outputs": [
    {
     "name": "stdout",
     "output_type": "stream",
     "text": [
      "1 {'c': 3, 'b': 2}\n"
     ]
    }
   ],
   "source": [
    "def func(a, **kargs):\n",
    "    print(a, kargs)\n",
    "func(a=1, c=3, b=2)"
   ]
  },
  {
   "cell_type": "markdown",
   "id": "3e975446",
   "metadata": {},
   "source": [
    "Q_(5):- What gets printed by this, and explain?\n",
    ">>> def func(a, b, c=8, d=5): print(a, b, c, d)\n",
    ">>> func(1, *(5, 6))\n",
    "\n",
    "Sol_5:- In the given code, func(1,*(5,6)) is called with one positional and other variable length argument. As the control goes to the func(a,b,c=8, d=5) the arguments assign to parameters a,b,c and d.\n",
    "\n",
    "Inside the func() function it print value of a,b,c and d as output as 1,5,6,5. This is so because we have one positional argument 1 assign to a i.e (a=1), then we have *(5,6) it means variable length argument of length 2 which will assign next two parameters b and c i.e(b=5, c=6) and d has its default value 5. Thats how it give output as 1,5,6,5."
   ]
  },
  {
   "cell_type": "code",
   "execution_count": 5,
   "id": "e8f94f0c",
   "metadata": {},
   "outputs": [
    {
     "name": "stdout",
     "output_type": "stream",
     "text": [
      "1 5 6 5\n"
     ]
    }
   ],
   "source": [
    "def func(a, b, c=8, d=5): print(a, b, c, d)\n",
    "\n",
    "func(1, *(5, 6))"
   ]
  },
  {
   "cell_type": "markdown",
   "id": "06eb3d8d",
   "metadata": {},
   "source": [
    "Q_(6):- . what is the result of this, and explain?\n",
    ">>> def func(a, b, c): a = 2; b[0] = 'x'; c['a'] = 'y'\n",
    ">>> l=1; m=[1]; n={'a':0}\n",
    ">>> func(l, m, n)\n",
    ">>> l, m, n\n",
    "\n",
    "Sol_6:- In this code, the func() function is defined then value of l, m and n varibles assined. After this func() function is called and passing values of l,m,n as argument to the a,b,c parameters to func() function.\n",
    "\n",
    "It means a=l=1, b=m=[1] and c=n={'a':0}.\n",
    "\n",
    "As the control of our program goes inside the func(a,b,c) function, a reassigned with value 2 and 0th index of list b reassigned as'x' and Key 'a' of dictionary c reassined with value 'y'. Then terminate the control out of this function.\n",
    "\n",
    "At the end of this code, it print l, m and n value as (1, ['x'], {'a': 'y'}) because l=1 remains as global variable, m = ['x'] and n = {'a': 'y'} this is so list m and dictionary n also updated inside the func() functiton.\n"
   ]
  },
  {
   "cell_type": "code",
   "execution_count": 1,
   "id": "4135820c",
   "metadata": {},
   "outputs": [
    {
     "data": {
      "text/plain": [
       "(1, ['x'], {'a': 'y'})"
      ]
     },
     "execution_count": 1,
     "metadata": {},
     "output_type": "execute_result"
    }
   ],
   "source": [
    "def func(a, b, c):\n",
    "    a = 2; b[0] = 'x'; c['a'] = 'y'\n",
    "    \n",
    "\n",
    "l=1; m=[1]; n={'a':0}\n",
    "\n",
    "\n",
    "func(l, m, n)\n",
    "l, m, n"
   ]
  }
 ],
 "metadata": {
  "kernelspec": {
   "display_name": "Python 3",
   "language": "python",
   "name": "python3"
  },
  "language_info": {
   "codemirror_mode": {
    "name": "ipython",
    "version": 3
   },
   "file_extension": ".py",
   "mimetype": "text/x-python",
   "name": "python",
   "nbconvert_exporter": "python",
   "pygments_lexer": "ipython3",
   "version": "3.8.8"
  }
 },
 "nbformat": 4,
 "nbformat_minor": 5
}
