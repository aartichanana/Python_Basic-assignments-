{
 "cells": [
  {
   "cell_type": "markdown",
   "id": "6e04a401",
   "metadata": {},
   "source": [
    "Q_(1):- Write a Python Program to Display Fibonacci Sequence Using Recursion?\n",
    "\n",
    "Sol_1:-"
   ]
  },
  {
   "cell_type": "code",
   "execution_count": 25,
   "id": "78909111",
   "metadata": {},
   "outputs": [
    {
     "name": "stdout",
     "output_type": "stream",
     "text": [
      "Fibonacci sequence:\n",
      "0\n",
      "1\n",
      "1\n",
      "2\n",
      "3\n",
      "5\n",
      "8\n",
      "13\n",
      "21\n",
      "34\n"
     ]
    }
   ],
   "source": [
    "def fibo(n):\n",
    "    \"\"\"This function give the Fibonacci sequence using Recursion\"\"\"\n",
    "    if n <= 1:\n",
    "        return n\n",
    "    else:\n",
    "        return(fibo(n-1) + fibo(n-2))\n",
    "\n",
    "nterms = 10\n",
    "\n",
    "# check if the number of terms is valid\n",
    "if nterms <= 0:\n",
    "    print(\"Plese enter a positive integer\")\n",
    "else:\n",
    "    print(\"Fibonacci sequence:\")\n",
    "    for i in range(nterms):\n",
    "        print(fibo(i))"
   ]
  },
  {
   "cell_type": "markdown",
   "id": "966b2ef8",
   "metadata": {},
   "source": [
    "Q_(2):- Write a Python Program to Find Factorial of Number Using Recursion?\n",
    "\n",
    "Sol_2:-"
   ]
  },
  {
   "cell_type": "code",
   "execution_count": 1,
   "id": "8e01472b",
   "metadata": {},
   "outputs": [
    {
     "name": "stdout",
     "output_type": "stream",
     "text": [
      "Enter the number: 3\n",
      "The factorial of 3 is 6\n"
     ]
    }
   ],
   "source": [
    "num = int(input(\"Enter the number: \"))\n",
    "\n",
    "def factorial(num):\n",
    "    \"\"\"This function give factorial of a number using recursion \"\"\"\n",
    "    if num == 0:\n",
    "        return num\n",
    "    if num == 1:\n",
    "        return num\n",
    "    else:\n",
    "        return num*factorial(num-1)\n",
    "\n",
    "# check if the number is negative\n",
    "if num < 0:\n",
    "    print(\"Sorry, factorial does not exist for negative numbers\")\n",
    "\n",
    "\n",
    "else:\n",
    "    print(\"The factorial of\", num, \"is\", factorial(num))"
   ]
  },
  {
   "cell_type": "markdown",
   "id": "a577c1ee",
   "metadata": {},
   "source": [
    "Q_(3):- Write a Python Program to calculate your Body Mass Index?\n",
    "\n",
    "Sol_3:-"
   ]
  },
  {
   "cell_type": "code",
   "execution_count": 9,
   "id": "42aa70f3",
   "metadata": {},
   "outputs": [
    {
     "name": "stdout",
     "output_type": "stream",
     "text": [
      "enter weight in kg: 47\n",
      "enter height in feet: 1.4347\n",
      "The Body Mass Index is: 228336.66904867155\n"
     ]
    }
   ],
   "source": [
    "weight = float(input(\"enter weight in kg: \"))\n",
    "height = float(input(\"enter height in feet: \"))\n",
    "\n",
    "#Calculate Body Mass Index\n",
    "BMI = weight / (height/100)**2\n",
    "\n",
    "print(\"The Body Mass Index is: {}\".format(BMI))"
   ]
  },
  {
   "cell_type": "markdown",
   "id": "ed0a6707",
   "metadata": {},
   "source": [
    "Q_(4):- Write a Python Program to calculate the natural logarithm of any number?\n",
    "\n",
    "Sol_4:-"
   ]
  },
  {
   "cell_type": "code",
   "execution_count": 13,
   "id": "93a6a2cc",
   "metadata": {},
   "outputs": [
    {
     "name": "stdout",
     "output_type": "stream",
     "text": [
      "Enter the number: 10\n",
      "The log value of 10 is 2.302585092994046:\n"
     ]
    }
   ],
   "source": [
    "#importing math library\n",
    "import math\n",
    "\n",
    "number = int(input(\"Enter the number: \"))\n",
    "\n",
    "#calculate log value\n",
    "result = math.log(number)\n",
    "\n",
    "print(\"The log value of {} is {}:\".format(number, result))"
   ]
  },
  {
   "cell_type": "markdown",
   "id": "5916569a",
   "metadata": {},
   "source": [
    "Q_(5):- Write a Python Program for cube sum of first n natural numbers?\n",
    "\n",
    "Sol_5:-"
   ]
  },
  {
   "cell_type": "code",
   "execution_count": 19,
   "id": "9cfcf02a",
   "metadata": {},
   "outputs": [
    {
     "name": "stdout",
     "output_type": "stream",
     "text": [
      "The cube sum of first 5 natural number is 225.0\n"
     ]
    }
   ],
   "source": [
    "n = 5\n",
    "\n",
    "#Calculate by formula\n",
    "a = (n*(n + 1)/ 2)\n",
    "result = a*a\n",
    "print(\"The cube sum of first {} natural number is {}\".format(n,result))"
   ]
  }
 ],
 "metadata": {
  "kernelspec": {
   "display_name": "Python 3 (ipykernel)",
   "language": "python",
   "name": "python3"
  },
  "language_info": {
   "codemirror_mode": {
    "name": "ipython",
    "version": 3
   },
   "file_extension": ".py",
   "mimetype": "text/x-python",
   "name": "python",
   "nbconvert_exporter": "python",
   "pygments_lexer": "ipython3",
   "version": "3.9.7"
  }
 },
 "nbformat": 4,
 "nbformat_minor": 5
}
