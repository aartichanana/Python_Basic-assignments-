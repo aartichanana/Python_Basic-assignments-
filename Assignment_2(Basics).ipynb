{
 "cells": [
  {
   "cell_type": "markdown",
   "id": "cd191d2f",
   "metadata": {},
   "source": [
    "Q_(1):- What are the two values of the Boolean data type? How do you write them?                                               \n",
    "Sol_1:-Two values of the Boolean datatype are:-                                                                                \n",
    "       True                                                                                                                           \n",
    "       False                                                                                                                           \n",
    "It always write with first capital letter such as: True and False"
   ]
  },
  {
   "cell_type": "markdown",
   "id": "a628f51d",
   "metadata": {},
   "source": [
    "Q_(2):- What are the three different types of Boolean operators?                                                               \n",
    "Sol_2:- Three different types of Boolean operators are:-      \n",
    "AND     \n",
    "OR           \n",
    "NOT"
   ]
  },
  {
   "cell_type": "markdown",
   "id": "4e899bff",
   "metadata": {},
   "source": [
    "Q_(3):- Make a list of each Boolean operator's truth tables (i.e. every possible combination of Boolean values for the operator and what it evaluate ).                                                                                                         \n",
    "Sol_3:- In below Truth Table 0 represent false and 1 represents True value."
   ]
  },
  {
   "attachments": {
    "or.png": {
     "image/png": "[encoded data removed]"
    }
   },
   "cell_type": "markdown",
   "id": "0db5fd19",
   "metadata": {},
   "source": [
    "![or.png](attachment:or.png)"
   ]
  },
  {
   "attachments": {
    "and.png": {
     "image/png": "[encoded data removed]"
    }
   },
   "cell_type": "markdown",
   "id": "d59b009f",
   "metadata": {},
   "source": [
    "![and.png](attachment:and.png)"
   ]
  },
  {
   "attachments": {
    "not.png": {
     "image/png": "[encoded data removed]"
    }
   },
   "cell_type": "markdown",
   "id": "95f67dc1",
   "metadata": {},
   "source": [
    "![not.png](attachment:not.png)"
   ]
  },
  {
   "cell_type": "markdown",
   "id": "4870257d",
   "metadata": {},
   "source": [
    "Q_(4):- What are the values of the following expressions?                                                                        \n",
    "a) (5 > 4) and (3 == 5)                                                                                                         \n",
    "b) not (5 > 4)                                                                                                                 \n",
    "c) (5 > 4) or (3 == 5)                                                                                                         \n",
    "d) not ((5 > 4) or (3 == 5))                                                                                                   \n",
    "e) (True and True) and (True == False)                                                                                         \n",
    "f) (not False) or (not True)                                                                                                   \n",
    "Sol_4:- "
   ]
  },
  {
   "cell_type": "code",
   "execution_count": 1,
   "id": "65780b71",
   "metadata": {},
   "outputs": [
    {
     "data": {
      "text/plain": [
       "False"
      ]
     },
     "execution_count": 1,
     "metadata": {},
     "output_type": "execute_result"
    }
   ],
   "source": [
    "(5 > 4) and (3 == 5)                # True and False = False"
   ]
  },
  {
   "cell_type": "code",
   "execution_count": 2,
   "id": "fb95fc5f",
   "metadata": {},
   "outputs": [
    {
     "data": {
      "text/plain": [
       "False"
      ]
     },
     "execution_count": 2,
     "metadata": {},
     "output_type": "execute_result"
    }
   ],
   "source": [
    "not (5 > 4)                         # not(True) = False"
   ]
  },
  {
   "cell_type": "code",
   "execution_count": 3,
   "id": "314d77af",
   "metadata": {},
   "outputs": [
    {
     "data": {
      "text/plain": [
       "True"
      ]
     },
     "execution_count": 3,
     "metadata": {},
     "output_type": "execute_result"
    }
   ],
   "source": [
    "(5 > 4) or (3 == 5)                 # True or False = True"
   ]
  },
  {
   "cell_type": "code",
   "execution_count": 4,
   "id": "cadfd0dc",
   "metadata": {},
   "outputs": [
    {
     "data": {
      "text/plain": [
       "False"
      ]
     },
     "execution_count": 4,
     "metadata": {},
     "output_type": "execute_result"
    }
   ],
   "source": [
    "not ((5 > 4) or (3 == 5))           # True or False = True then not(True) = False"
   ]
  },
  {
   "cell_type": "code",
   "execution_count": 5,
   "id": "5dd76afe",
   "metadata": {},
   "outputs": [
    {
     "data": {
      "text/plain": [
       "False"
      ]
     },
     "execution_count": 5,
     "metadata": {},
     "output_type": "execute_result"
    }
   ],
   "source": [
    "(True and True) and (True == False) # True and False = False"
   ]
  },
  {
   "cell_type": "code",
   "execution_count": null,
   "id": "7f81f577",
   "metadata": {},
   "outputs": [],
   "source": [
    "(not False) or (not True)           # True or False = True"
   ]
  },
  {
   "cell_type": "markdown",
   "id": "2a291fa9",
   "metadata": {},
   "source": [
    "Q_(5):- What are the six comparison operators?                                                                                 \n",
    "Sol_5:- \n",
    "        1) Equal to (==)                                                                                                        \n",
    "        2) Greater than equal to (>=)                                                                                                  \n",
    "        3) Less than equal to (<=)                                                                                                      \n",
    "        4) not equal to (!=)                                                                                                            \n",
    "        5) Greater than (>)                                                                                                            \n",
    "        6) Less than (<)"
   ]
  },
  {
   "cell_type": "markdown",
   "id": "41562aa0",
   "metadata": {},
   "source": [
    "Q_(6):- How do you tell the difference between the equal to and assignment operators?Describe a condition and when you would use one.                                                                                                                           \n",
    "Sol:- Assinment operator is represent by single equal to sign (=). It is used to assign the value to a variable.                 \n",
    "      Equal to operator is represent by double equal to sign (==). It is used to check whether is the left hand operand equals to right hand operand or not. If so it returns True otherwise returns False."
   ]
  },
  {
   "cell_type": "markdown",
   "id": "ea523330",
   "metadata": {},
   "source": [
    "Q_(7):-  Identify the three blocks in this code:\n",
    "spam = 0\n",
    "if spam == 10:\n",
    "print('eggs')\n",
    "if spam > 5:\n",
    "print('bacon')\n",
    "else:\n",
    "print('ham')\n",
    "print('spam')\n",
    "print('spam')\n",
    "\n",
    "Sol:-"
   ]
  },
  {
   "cell_type": "code",
   "execution_count": 7,
   "id": "36fd0ff2",
   "metadata": {},
   "outputs": [
    {
     "name": "stdout",
     "output_type": "stream",
     "text": [
      "ham\n",
      "spam\n",
      "spam\n"
     ]
    }
   ],
   "source": [
    "spam =0\n",
    "if spam ==10:                    # first block\n",
    "    print('eggs')\n",
    "    \n",
    "if spam > 5:                     # second block\n",
    "    print('bacon')\n",
    "else:                            # third block\n",
    "    print('ham')\n",
    "print('spam')\n",
    "print('spam')\n"
   ]
  },
  {
   "cell_type": "markdown",
   "id": "2523aeb0",
   "metadata": {},
   "source": [
    "Q_(8):- Write code that prints Hello if 1 is stored in spam, prints Howdy if 2 is stored in spam, and prints Greetings! if anything else is stored in spam."
   ]
  },
  {
   "cell_type": "code",
   "execution_count": 8,
   "id": "cd5e873d",
   "metadata": {},
   "outputs": [
    {
     "name": "stdout",
     "output_type": "stream",
     "text": [
      "Enter any number \n",
      "101\n",
      "Greetings!\n"
     ]
    }
   ],
   "source": [
    "print(\"Enter any number \")\n",
    "spam = int(input())\n",
    "if spam == 1:\n",
    "    print(\"Hello\")\n",
    "elif spam == 2:\n",
    "    print(\"Howdy\")\n",
    "else:\n",
    "    print(\"Greetings!\")"
   ]
  },
  {
   "cell_type": "markdown",
   "id": "59d4e64a",
   "metadata": {},
   "source": [
    "Q_(9):- If your programme is stuck in an endless loop, what keys you’ll press?                                                 \n",
    "Sol_9:- I will press Ctrl + C."
   ]
  },
  {
   "cell_type": "markdown",
   "id": "1c05ef80",
   "metadata": {},
   "source": [
    "Q_(10):- How can you tell the difference between break and continue?                                                           \n",
    "Sol_10:- a) Break statement is used to come out of the current iteration of loop. It insruct the program to exit the loop now.    \n",
    "Continue statement is used to skip the current iteration of loop and continue from the main loop again. It instruct the program to skip the iteration."
   ]
  },
  {
   "cell_type": "markdown",
   "id": "0db52010",
   "metadata": {},
   "source": [
    "b) For example:-"
   ]
  },
  {
   "cell_type": "code",
   "execution_count": 9,
   "id": "998e0965",
   "metadata": {},
   "outputs": [
    {
     "name": "stdout",
     "output_type": "stream",
     "text": [
      "0\n",
      "1\n",
      "2\n",
      "3\n"
     ]
    }
   ],
   "source": [
    "for i in range(0,80):\n",
    "    print(i)\n",
    "    if i==3:\n",
    "        break                  # Here break statement write under if condition, when this condition becomes true then break statement get execute"
   ]
  },
  {
   "cell_type": "code",
   "execution_count": 12,
   "id": "6db92e6d",
   "metadata": {},
   "outputs": [
    {
     "name": "stdout",
     "output_type": "stream",
     "text": [
      "execute\n",
      "0\n",
      "execute\n",
      "1\n",
      "execute\n",
      "execute\n",
      "3\n"
     ]
    }
   ],
   "source": [
    "for i in range(4):\n",
    "    print(\"execute\")\n",
    "    if(i==2):                # when i becomes 2 then iteration is skipped\n",
    "        continue\n",
    "    print(i)"
   ]
  },
  {
   "cell_type": "markdown",
   "id": "d4e006e0",
   "metadata": {},
   "source": [
    "Q_(11):- In a for loop, what is the difference between range(10), range(0, 10), and range(0, 10, 1)?                           \n",
    "Sol_11:- There is only difference of notation but all giving same result.                                                        \n",
    "range(10)- It means range(stop) having stop value 10 (by default start from 0 and stop value is 1)                                                \n",
    "range(0,10)- It means range(start, stop), it will start from 0 and stop at 10. (by default stop value is 1)                                                 \n",
    "range(0, 10, 1)- It means range(start, stop, step), it will start from 0 and stop at 10 and having step size of 1. "
   ]
  },
  {
   "cell_type": "code",
   "execution_count": 14,
   "id": "fa9cd3e5",
   "metadata": {},
   "outputs": [
    {
     "data": {
      "text/plain": [
       "[0, 1, 2, 3, 4, 5, 6, 7, 8, 9]"
      ]
     },
     "execution_count": 14,
     "metadata": {},
     "output_type": "execute_result"
    }
   ],
   "source": [
    "list(range(10))"
   ]
  },
  {
   "cell_type": "code",
   "execution_count": 15,
   "id": "347d7117",
   "metadata": {},
   "outputs": [
    {
     "data": {
      "text/plain": [
       "[0, 1, 2, 3, 4, 5, 6, 7, 8, 9]"
      ]
     },
     "execution_count": 15,
     "metadata": {},
     "output_type": "execute_result"
    }
   ],
   "source": [
    "list(range(0,10))"
   ]
  },
  {
   "cell_type": "code",
   "execution_count": 16,
   "id": "03a4d4b4",
   "metadata": {},
   "outputs": [
    {
     "data": {
      "text/plain": [
       "[0, 1, 2, 3, 4, 5, 6, 7, 8, 9]"
      ]
     },
     "execution_count": 16,
     "metadata": {},
     "output_type": "execute_result"
    }
   ],
   "source": [
    "list(range(0,10,1))"
   ]
  },
  {
   "cell_type": "markdown",
   "id": "5b4f1776",
   "metadata": {},
   "source": [
    "Q_(12):- Write a short program that prints the numbers 1 to 10 using a for loop. Then write an equivalent program that prints the numbers 1 to 10 using a while loop."
   ]
  },
  {
   "cell_type": "markdown",
   "id": "3d6570a1",
   "metadata": {},
   "source": [
    "Sol_12:-"
   ]
  },
  {
   "cell_type": "code",
   "execution_count": 18,
   "id": "85ee99a5",
   "metadata": {},
   "outputs": [
    {
     "name": "stdout",
     "output_type": "stream",
     "text": [
      "1\n",
      "2\n",
      "3\n",
      "4\n",
      "5\n",
      "6\n",
      "7\n",
      "8\n",
      "9\n",
      "10\n"
     ]
    }
   ],
   "source": [
    "# Printing numbers from 1 to 10 using for loop\n",
    "for i in range(1,11):\n",
    "    print(i)"
   ]
  },
  {
   "cell_type": "code",
   "execution_count": 20,
   "id": "45ffeea2",
   "metadata": {},
   "outputs": [
    {
     "name": "stdout",
     "output_type": "stream",
     "text": [
      "1\n",
      "2\n",
      "3\n",
      "4\n",
      "5\n",
      "6\n",
      "7\n",
      "8\n",
      "9\n",
      "10\n"
     ]
    }
   ],
   "source": [
    "# Printing numbers from 1 to 10 using while loop\n",
    "i = 1\n",
    "while (i<11):\n",
    "    print(i)\n",
    "    i += 1"
   ]
  },
  {
   "cell_type": "markdown",
   "id": "1bedafc3",
   "metadata": {},
   "source": [
    "Q_(13):- If you had a function named bacon() inside a module named spam, how would you call it after importing spam?            \n",
    "Sol_13:- After importing spam module which contain a function bacon() we can called it as-- spam.bacon()."
   ]
  }
 ],
 "metadata": {
  "kernelspec": {
   "display_name": "Python 3",
   "language": "python",
   "name": "python3"
  },
  "language_info": {
   "codemirror_mode": {
    "name": "ipython",
    "version": 3
   },
   "file_extension": ".py",
   "mimetype": "text/x-python",
   "name": "python",
   "nbconvert_exporter": "python",
   "pygments_lexer": "ipython3",
   "version": "3.8.8"
  }
 },
 "nbformat": 4,
 "nbformat_minor": 5
}
