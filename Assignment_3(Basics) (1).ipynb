{
 "cells": [
  {
   "cell_type": "markdown",
   "id": "6c96ceb1",
   "metadata": {},
   "source": [
    "Q_(1):- Why are functions advantageous to have in your programs?                                                               \n",
    "Sol_1:- a) Reusability of code- To use same piece of code multiple times in my program by the help of function need not to write a number of lines of code again and again.                                                                                     \n",
    "b) Easy to use &  understand- Function helps to divide large program into small segments which makes my program simple to read and easy to understand.                                                                                                         \n",
    "c) Function can be shared and used by other programmer."
   ]
  },
  {
   "cell_type": "markdown",
   "id": "5c1553f4",
   "metadata": {},
   "source": [
    "Q_(2):- When does the code in a function run: when it's specified or when it's called?                                         \n",
    "Sol_2:- Firstly, we have to specify or define the function and then we can call the function by using name of the defined function follwed by parenthesis by colon sign.                                                                                                                   \n",
    "After calling the function, now the code under the define function will run."
   ]
  },
  {
   "cell_type": "markdown",
   "id": "daf23e23",
   "metadata": {},
   "source": [
    "Q_(3):- What statement creates a function?                                                                                     \n",
    "Sol_3:- a) We can create a function using the def keyword, it specify the start of the function header. Then spacify a name of function followed by colon sign(:). we may use parameter/arguments inside parenthesis for our function.                          \n",
    "b) Now start the function body by adding valid statements using indented. It will perform a particular task for our function.   \n",
    "c) We can use a return statement which returns  a value at the end of the function."
   ]
  },
  {
   "cell_type": "markdown",
   "id": "31c338f8",
   "metadata": {},
   "source": [
    "Q_(4):- What is the difference between a function and a function call?                                                         \n",
    "Sol_4:- Function- It is a block of statementswhich is used to do some particular task and return a result. It usually accepts input as parameters and return a result.                                                                                       \n",
    "Function Call- It is a single line of code used to pass control to that function which is called."
   ]
  },
  {
   "cell_type": "markdown",
   "id": "7ec778b1",
   "metadata": {},
   "source": [
    "Q_(5):- How many global scopes are there in a Python program? How many local scopes?                                           \n",
    "Sol_5:- one global and one local scoope."
   ]
  },
  {
   "cell_type": "markdown",
   "id": "470a8e86",
   "metadata": {},
   "source": [
    "Q_(6):- What happens to variables in a local scope when the function call returns?                                             \n",
    "Sol_6:- a) It retains its value until the next time the function is called.                                                     \n",
    "b) It becomes undefined after the function call completes                                                                       \n",
    "c) It can be used outside the function call completes."
   ]
  },
  {
   "cell_type": "markdown",
   "id": "f1e4a2a1",
   "metadata": {},
   "source": [
    "Q_(7):- What is the concept of a return value? Is it possible to have a return value in an expression?                      \n",
    "\n",
    "Sol_7:- Function return a value, using the return statement.\n",
    "A python function can return a specified value anywhere within that function by using a return statement, which ends the function under execution and then returns a value to the caller."
   ]
  },
  {
   "cell_type": "markdown",
   "id": "bea3d8e7",
   "metadata": {},
   "source": [
    "Q_(8):- If a function does not have a return statement, what is the return value of a call to that function?                   \n",
    "Sol_8:- If a function does not have a return statement, then function eventhough prints the value but that value will not be returned to the place where the call was made. The evaluation of that function will be \"None\"."
   ]
  },
  {
   "cell_type": "markdown",
   "id": "35a2e1cc",
   "metadata": {},
   "source": [
    "Q_(9):- How do you make a function variable refer to the global variable?                                                       \n",
    "Sol_9:- When we create a variable inside a function that variable is local and can only be used inside the function.\n",
    "To create a global variable inside a function, you can use the 'global' keyword to declare which variables are global. "
   ]
  },
  {
   "cell_type": "markdown",
   "id": "7d101a83",
   "metadata": {},
   "source": [
    "Q_(10):- What is the data type of None?                                                                                         \n",
    "Sol_10:- None is representing None datatype."
   ]
  },
  {
   "cell_type": "markdown",
   "id": "341d2f69",
   "metadata": {},
   "source": [
    "Q_(11):- What does the sentence import areallyourpetsnamederic do?                                                             \n",
    "Sol_11:- This sentence should import a module of name areallyourpetsnamederic but there is no such kind of module in python."
   ]
  },
  {
   "cell_type": "markdown",
   "id": "43ed1e4b",
   "metadata": {},
   "source": [
    "Q_(12):- If you had a bacon() feature in a spam module, what would you call it after importing spam?                           \n",
    "Sol_12:- import spam.bacon()."
   ]
  },
  {
   "cell_type": "markdown",
   "id": "3a5ef1ce",
   "metadata": {},
   "source": [
    "Q_(13):- What can you do to save a programme from crashing if it encounters an error?    \n",
    "Sol_13:- I will use try clause inside it i will put that line of code which can cause an error."
   ]
  },
  {
   "cell_type": "markdown",
   "id": "ce635784",
   "metadata": {},
   "source": [
    "Q_(14):- What is the purpose of the try clause? What is the purpose of the except clause?  \n",
    "Sol_14:-Try clause: The critical operation which can create any kind of exception is placed inside the try  clause.   \n",
    "Except clause: The code of lines that can handles the exceptions is written in the except clause."
   ]
  }
 ],
 "metadata": {
  "kernelspec": {
   "display_name": "Python 3",
   "language": "python",
   "name": "python3"
  },
  "language_info": {
   "codemirror_mode": {
    "name": "ipython",
    "version": 3
   },
   "file_extension": ".py",
   "mimetype": "text/x-python",
   "name": "python",
   "nbconvert_exporter": "python",
   "pygments_lexer": "ipython3",
   "version": "3.8.8"
  }
 },
 "nbformat": 4,
 "nbformat_minor": 5
}
