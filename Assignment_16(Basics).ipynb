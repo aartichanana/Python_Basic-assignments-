{
 "cells": [
  {
   "cell_type": "markdown",
   "id": "e19a18a7",
   "metadata": {},
   "source": [
    "Q_(1):- Create a list called years_list, starting with the year of your birth, and each year thereafter until the year of your fifth birthday. For example, if you were born in 1980. the list would be years_list = [1980, 1981, 1982, 1983, 1984, 1985].   \n",
    "Sol_1:-"
   ]
  },
  {
   "cell_type": "code",
   "execution_count": 1,
   "id": "a60f7fc0",
   "metadata": {},
   "outputs": [
    {
     "name": "stdout",
     "output_type": "stream",
     "text": [
      "Enter your birth year: 1998\n",
      "list of years of your fifth birthday is:\n",
      "  [1998, 1999, 2000, 2001, 2002, 2003]\n"
     ]
    }
   ],
   "source": [
    "years_list = []\n",
    "l = int(input(\"Enter your birth year: \"))\n",
    "for i in range(6):\n",
    "    years_list.append(l)\n",
    "    l = years_list[i]+1\n",
    "    \n",
    "print('list of years of your fifth birthday is:\\n ',years_list)"
   ]
  },
  {
   "cell_type": "markdown",
   "id": "471a2d69",
   "metadata": {},
   "source": [
    "Q_(2):- In which year in years_list was your third birthday? Remember, you were 0 years of age for your first year.    \n",
    "Sol_2:-"
   ]
  },
  {
   "cell_type": "code",
   "execution_count": 2,
   "id": "609c0299",
   "metadata": {},
   "outputs": [
    {
     "data": {
      "text/plain": [
       "2001"
      ]
     },
     "execution_count": 2,
     "metadata": {},
     "output_type": "execute_result"
    }
   ],
   "source": [
    "years_list[3]"
   ]
  },
  {
   "cell_type": "markdown",
   "id": "e1cd74fd",
   "metadata": {},
   "source": [
    "Q_(3):- In the years list, which year were you the oldest?   \n",
    "Sol_3:-"
   ]
  },
  {
   "cell_type": "code",
   "execution_count": 3,
   "id": "03b4cebb",
   "metadata": {},
   "outputs": [
    {
     "data": {
      "text/plain": [
       "2003"
      ]
     },
     "execution_count": 3,
     "metadata": {},
     "output_type": "execute_result"
    }
   ],
   "source": [
    "years_list[-1]"
   ]
  },
  {
   "cell_type": "markdown",
   "id": "f531d287",
   "metadata": {},
   "source": [
    "Q_(4):- Make a list called things with these three strings as elements: \"mozzarella\", \"cinderella\", \"salmonella\".   \n",
    "Sol_4:-"
   ]
  },
  {
   "cell_type": "code",
   "execution_count": 4,
   "id": "ed3c21de",
   "metadata": {},
   "outputs": [
    {
     "data": {
      "text/plain": [
       "['mozzarella', 'cindrella', 'salmonella']"
      ]
     },
     "execution_count": 4,
     "metadata": {},
     "output_type": "execute_result"
    }
   ],
   "source": [
    "things = [\"mozzarella\",\"cindrella\",\"salmonella\"]\n",
    "things"
   ]
  },
  {
   "cell_type": "markdown",
   "id": "a8858565",
   "metadata": {},
   "source": [
    "Q_(5):- Capitalize the element in things that refers to a person and then print the list. Did it change the element in the list?   \n",
    "Sol_5:- Yes, by reassign the same index value which was capitalize by using capitalize() function."
   ]
  },
  {
   "cell_type": "code",
   "execution_count": 5,
   "id": "b9800c65",
   "metadata": {},
   "outputs": [
    {
     "data": {
      "text/plain": [
       "'Mozzarella'"
      ]
     },
     "execution_count": 5,
     "metadata": {},
     "output_type": "execute_result"
    }
   ],
   "source": [
    "things[0] = things[0].capitalize()\n",
    "things[0]"
   ]
  },
  {
   "cell_type": "code",
   "execution_count": 6,
   "id": "5cb83b65",
   "metadata": {},
   "outputs": [
    {
     "data": {
      "text/plain": [
       "'Cindrella'"
      ]
     },
     "execution_count": 6,
     "metadata": {},
     "output_type": "execute_result"
    }
   ],
   "source": [
    "things[1] = things[1].capitalize()\n",
    "things[1]"
   ]
  },
  {
   "cell_type": "code",
   "execution_count": 7,
   "id": "17caadf4",
   "metadata": {},
   "outputs": [
    {
     "data": {
      "text/plain": [
       "'Salmonella'"
      ]
     },
     "execution_count": 7,
     "metadata": {},
     "output_type": "execute_result"
    }
   ],
   "source": [
    "things[2] = things[2].capitalize()\n",
    "things[2]"
   ]
  },
  {
   "cell_type": "code",
   "execution_count": 8,
   "id": "ad479b41",
   "metadata": {},
   "outputs": [
    {
     "data": {
      "text/plain": [
       "['Mozzarella', 'Cindrella', 'Salmonella']"
      ]
     },
     "execution_count": 8,
     "metadata": {},
     "output_type": "execute_result"
    }
   ],
   "source": [
    "things"
   ]
  },
  {
   "cell_type": "markdown",
   "id": "f284dda1",
   "metadata": {},
   "source": [
    "Q_(6):- Make a surprise list with the elements \"Groucho,\" \"Chico,\" and \"Harpo.\"   \n",
    "Sol_6:-"
   ]
  },
  {
   "cell_type": "code",
   "execution_count": 9,
   "id": "6011ed3c",
   "metadata": {},
   "outputs": [
    {
     "data": {
      "text/plain": [
       "['Groucho', 'Chico', 'Harpo']"
      ]
     },
     "execution_count": 9,
     "metadata": {},
     "output_type": "execute_result"
    }
   ],
   "source": [
    "surprise_list = [\"Groucho\", \"Chico\",\"Harpo\"]\n",
    "surprise_list"
   ]
  },
  {
   "cell_type": "markdown",
   "id": "cb786f26",
   "metadata": {},
   "source": [
    "Q_(7):- Lowercase the last element of the surprise list, reverse it, and then capitalize it.  \n",
    "Sol_7:-"
   ]
  },
  {
   "cell_type": "code",
   "execution_count": 10,
   "id": "fcec5b24",
   "metadata": {},
   "outputs": [
    {
     "data": {
      "text/plain": [
       "'harpo'"
      ]
     },
     "execution_count": 10,
     "metadata": {},
     "output_type": "execute_result"
    }
   ],
   "source": [
    "surprise_list[-1].lower()"
   ]
  },
  {
   "cell_type": "code",
   "execution_count": 11,
   "id": "0168e87a",
   "metadata": {},
   "outputs": [
    {
     "data": {
      "text/plain": [
       "'opraH'"
      ]
     },
     "execution_count": 11,
     "metadata": {},
     "output_type": "execute_result"
    }
   ],
   "source": [
    "new =(''.join(reversed(surprise_list[-1])))\n",
    "new"
   ]
  },
  {
   "cell_type": "code",
   "execution_count": 12,
   "id": "b75e15dc",
   "metadata": {},
   "outputs": [
    {
     "data": {
      "text/plain": [
       "'Oprah'"
      ]
     },
     "execution_count": 12,
     "metadata": {},
     "output_type": "execute_result"
    }
   ],
   "source": [
    "new.capitalize()"
   ]
  },
  {
   "cell_type": "markdown",
   "id": "72904d5e",
   "metadata": {},
   "source": [
    "Q_(8):- Make an English-to-French dictionary called e2f and print it. Here are your starter words: dog is chien, cat is chat, and walrus is morse.   \n",
    "Sol_8:-"
   ]
  },
  {
   "cell_type": "code",
   "execution_count": 13,
   "id": "84accd0f",
   "metadata": {},
   "outputs": [
    {
     "data": {
      "text/plain": [
       "{'dog': 'chien', 'cat': 'chat', 'walrus': 'morse'}"
      ]
     },
     "execution_count": 13,
     "metadata": {},
     "output_type": "execute_result"
    }
   ],
   "source": [
    "e2f = {\"dog\":\"chien\",\"cat\": \"chat\",\"walrus\":\"morse\"}\n",
    "e2f"
   ]
  },
  {
   "cell_type": "markdown",
   "id": "d9e39c5f",
   "metadata": {},
   "source": [
    "Q_(9):- Write the French word for walrus in your three-word dictionary e2f.   \n",
    "Sol_9:-"
   ]
  },
  {
   "cell_type": "code",
   "execution_count": 14,
   "id": "36265a94",
   "metadata": {},
   "outputs": [
    {
     "data": {
      "text/plain": [
       "'morse'"
      ]
     },
     "execution_count": 14,
     "metadata": {},
     "output_type": "execute_result"
    }
   ],
   "source": [
    "e2f[\"walrus\"]"
   ]
  },
  {
   "cell_type": "markdown",
   "id": "b4fe5125",
   "metadata": {},
   "source": [
    "Q_(10):- Make a French-to-English dictionary called f2e from e2f. Use the items method.   \n",
    "Sol_10:-"
   ]
  },
  {
   "cell_type": "code",
   "execution_count": 15,
   "id": "0c2cea93",
   "metadata": {},
   "outputs": [
    {
     "data": {
      "text/plain": [
       "{'chien': 'dog', 'chat': 'cat', 'morse': 'walrus'}"
      ]
     },
     "execution_count": 15,
     "metadata": {},
     "output_type": "execute_result"
    }
   ],
   "source": [
    "f2e = {f: e for e, f in e2f.items()}\n",
    "f2e"
   ]
  },
  {
   "cell_type": "markdown",
   "id": "b55337ea",
   "metadata": {},
   "source": [
    "Q_(11):- Print the English version of the French word chien using f2e.    \n",
    "Sol_11:-"
   ]
  },
  {
   "cell_type": "code",
   "execution_count": 16,
   "id": "29a4b308",
   "metadata": {},
   "outputs": [
    {
     "data": {
      "text/plain": [
       "'dog'"
      ]
     },
     "execution_count": 16,
     "metadata": {},
     "output_type": "execute_result"
    }
   ],
   "source": [
    "f2e['chien']"
   ]
  },
  {
   "cell_type": "markdown",
   "id": "b14d930a",
   "metadata": {},
   "source": [
    "Q_(12):- Make and print a set of English words from the keys in e2f.   \n",
    "Sol_12:-"
   ]
  },
  {
   "cell_type": "code",
   "execution_count": 17,
   "id": "edf5dda0",
   "metadata": {},
   "outputs": [
    {
     "name": "stdout",
     "output_type": "stream",
     "text": [
      "<class 'set'>\n",
      "{'walrus', 'dog', 'cat'}\n"
     ]
    }
   ],
   "source": [
    "s = set(e2f.keys())\n",
    "print(type(s))\n",
    "print(s)"
   ]
  },
  {
   "cell_type": "markdown",
   "id": "3553fa9f",
   "metadata": {},
   "source": [
    "Q_(13):- Make a multilevel dictionary called life. Use these strings for the topmost keys: 'animals', 'plants', and 'other'. Make the 'animals' key refer to another dictionary with the keys 'cats', 'octopi', and 'emus'. Make the 'cats' key refer to a list of strings with the values 'Henri', 'Grumpy', and 'Lucy'. Make all the other keys refer to empty dictionaries.   \n",
    "Sol_13:-"
   ]
  },
  {
   "cell_type": "code",
   "execution_count": 18,
   "id": "48a698e9",
   "metadata": {},
   "outputs": [],
   "source": [
    "life ={\"animals\":{\"cats\":[\"Henri\",\"Grumpy\",\"Lucky\"],\n",
    "                  \"octopi\":{},\n",
    "                  \"emus\":{}\n",
    "                 },\n",
    "       \"plants\":{},\n",
    "       \"other\":{}\n",
    "      }"
   ]
  },
  {
   "cell_type": "markdown",
   "id": "34986593",
   "metadata": {},
   "source": [
    "Q_(14):- Print the top-level keys of life.  \n",
    "Sol_14:-"
   ]
  },
  {
   "cell_type": "code",
   "execution_count": 19,
   "id": "a84462e7",
   "metadata": {},
   "outputs": [
    {
     "data": {
      "text/plain": [
       "dict_keys(['animals', 'plants', 'other'])"
      ]
     },
     "execution_count": 19,
     "metadata": {},
     "output_type": "execute_result"
    }
   ],
   "source": [
    "life.keys()"
   ]
  },
  {
   "cell_type": "markdown",
   "id": "232d43c3",
   "metadata": {},
   "source": [
    "Q_(15):- Print the keys for life['animals'].   \n",
    "Sol_15:-"
   ]
  },
  {
   "cell_type": "code",
   "execution_count": 20,
   "id": "5a779e47",
   "metadata": {},
   "outputs": [
    {
     "data": {
      "text/plain": [
       "dict_keys(['cats', 'octopi', 'emus'])"
      ]
     },
     "execution_count": 20,
     "metadata": {},
     "output_type": "execute_result"
    }
   ],
   "source": [
    "life['animals'].keys()"
   ]
  },
  {
   "cell_type": "markdown",
   "id": "c022cb9e",
   "metadata": {},
   "source": [
    "Q_(16):- Print the values for life['animals']['cats']  \n",
    "Sol_16:-"
   ]
  },
  {
   "cell_type": "code",
   "execution_count": 21,
   "id": "50795a43",
   "metadata": {},
   "outputs": [
    {
     "data": {
      "text/plain": [
       "['Henri', 'Grumpy', 'Lucky']"
      ]
     },
     "execution_count": 21,
     "metadata": {},
     "output_type": "execute_result"
    }
   ],
   "source": [
    "life['animals']['cats']"
   ]
  }
 ],
 "metadata": {
  "kernelspec": {
   "display_name": "Python 3",
   "language": "python",
   "name": "python3"
  },
  "language_info": {
   "codemirror_mode": {
    "name": "ipython",
    "version": 3
   },
   "file_extension": ".py",
   "mimetype": "text/x-python",
   "name": "python",
   "nbconvert_exporter": "python",
   "pygments_lexer": "ipython3",
   "version": "3.8.8"
  }
 },
 "nbformat": 4,
 "nbformat_minor": 5
}
