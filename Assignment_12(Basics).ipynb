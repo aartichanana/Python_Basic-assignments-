{
 "cells": [
  {
   "cell_type": "markdown",
   "id": "c2e7e445",
   "metadata": {},
   "source": [
    "Q_(1):- In what modes should the PdfFileReader() and PdfFileWriter() File objects will be opened?   \n",
    "Sol_1:- PdfFileReader() file object opened in readbinary 'rb' mode and PdfFileWriter() file object opened in writebinary 'wb' mode. "
   ]
  },
  {
   "cell_type": "markdown",
   "id": "94079440",
   "metadata": {},
   "source": [
    "Q_(2):- From a PdfFileReader object, how do you get a Page object for page 5?   \n",
    "Sol_2:- By calling getpage(4) on a PdfFileReader object. It will return a page object for page 5 because page 0 is the first page. "
   ]
  },
  {
   "cell_type": "markdown",
   "id": "345ac7e6",
   "metadata": {},
   "source": [
    "Q_(3):- What PdfFileReader variable stores the number of pages in the PDF document?  \n",
    "Sol_3:- numPages variable stores an integer of the number of pages in the PdfFileReader object."
   ]
  },
  {
   "cell_type": "markdown",
   "id": "92cae21c",
   "metadata": {},
   "source": [
    "Q_(4):- If a PdfFileReader object’s PDF is encrypted with the password swordfish, what must you do before you can obtain Page objects from it?   \n",
    "Sol_4:- decrypt('swordfish'), i pass one password as a string in decrypt() function. "
   ]
  },
  {
   "cell_type": "markdown",
   "id": "0ae396bb",
   "metadata": {},
   "source": [
    "Q_(5):- What methods do you use to rotate a page?    \n",
    "Sol_5:- The rotateClockwise() or rotateCounterClockwise() method used to rotate a page. The degree of rotate passed as an integer argument such as 90,180,270."
   ]
  },
  {
   "cell_type": "markdown",
   "id": "11711e98",
   "metadata": {},
   "source": [
    "Q_(6):- What is the difference between a Run object and a Paragraph object?   \n",
    "Sol_6:- A para begins on a new line and contain multiple runs or run object.  \n",
    "Run object are the contiguous group of character within para. whenever style of font get change then new run is created.  \n",
    "For example:-  \n",
    "My name is *Aarti Chanana*.   \n",
    "\n",
    "Here, 'My name is' and '*Aarti Chanana*' are two runs in this single para."
   ]
  },
  {
   "cell_type": "markdown",
   "id": "261da990",
   "metadata": {},
   "source": [
    "Q_(7):- How do you obtain a list of Paragraph objects for a Document object that’s stored in a variable named doc?   \n",
    "Sol_7:- By calling doc.paragraphs"
   ]
  },
  {
   "cell_type": "markdown",
   "id": "a95951cb",
   "metadata": {},
   "source": [
    "Q_(8):- What type of object has bold, underline, italic, strike, and outline variables?   \n",
    "Sol_8:- Run Objects having these variables."
   ]
  },
  {
   "cell_type": "markdown",
   "id": "ce4b87df",
   "metadata": {},
   "source": [
    "Q_(9):- What is the difference between False, True, and None for the bold variable?   \n",
    "Sol_9:- For bold variable- False: means it will not make run object in bold form,    \n",
    "True: makes the run object in bold form,   \n",
    "None: it means just use the styles bold string."
   ]
  },
  {
   "cell_type": "markdown",
   "id": "2c187a6e",
   "metadata": {},
   "source": [
    "Q_(10):- How do you create a Document object for a new Word document?   \n",
    "Sol_10:- By calling docx.Document() will return a new, blank word document object."
   ]
  },
  {
   "cell_type": "markdown",
   "id": "ac3e61cd",
   "metadata": {},
   "source": [
    "Q_(11):- How do you add a paragraph with the text 'Hello, there!' to a Document object stored in a variable named doc?    \n",
    "Sol_11:- By calling doc.add_paragraph(\"Hello, there!\")."
   ]
  },
  {
   "cell_type": "markdown",
   "id": "baddb7ad",
   "metadata": {},
   "source": [
    "Q_(12):- What integers represent the levels of headings available in Word documents?   \n",
    "Sol_12:- The integer 0- make the headline title style and (1-4) make main heading to lowest subheading."
   ]
  }
 ],
 "metadata": {
  "kernelspec": {
   "display_name": "Python 3",
   "language": "python",
   "name": "python3"
  },
  "language_info": {
   "codemirror_mode": {
    "name": "ipython",
    "version": 3
   },
   "file_extension": ".py",
   "mimetype": "text/x-python",
   "name": "python",
   "nbconvert_exporter": "python",
   "pygments_lexer": "ipython3",
   "version": "3.8.8"
  }
 },
 "nbformat": 4,
 "nbformat_minor": 5
}
