{
 "cells": [
  {
   "cell_type": "markdown",
   "id": "7ab29070",
   "metadata": {},
   "source": [
    "Q_(1):- Create a zoo.py file first. Define the hours() function, which prints the string 'Open 9-5 daily'. Then, use the interactive interpreter to import the zoo module and call its hours() function.\n",
    "\n",
    "Sol_1:-The zoo.py file i created and inside i defined a function hours as:\n",
    "\n",
    "\n",
    "def hours():\n",
    "\n",
    "    print(\"Open 9-5 daily\")"
   ]
  },
  {
   "cell_type": "code",
   "execution_count": 1,
   "id": "aa9ffdad",
   "metadata": {},
   "outputs": [
    {
     "name": "stdout",
     "output_type": "stream",
     "text": [
      "Open 9-5 daily\n"
     ]
    }
   ],
   "source": [
    "# importing zoo module that i have created\n",
    "import zoo\n",
    "\n",
    "# calling the hours() function defined inside zoo module\n",
    "zoo.hours()"
   ]
  },
  {
   "cell_type": "markdown",
   "id": "95c2cc12",
   "metadata": {},
   "source": [
    "Q_(2):- In the interactive interpreter, import the zoo module as menagerie and call its hours() function.\n",
    "\n",
    "Sol_2:-"
   ]
  },
  {
   "cell_type": "code",
   "execution_count": 2,
   "id": "1a544091",
   "metadata": {},
   "outputs": [
    {
     "name": "stdout",
     "output_type": "stream",
     "text": [
      "Open 9-5 daily\n"
     ]
    }
   ],
   "source": [
    "#importing the zoo module by the name of menagerie(using as keyword) \n",
    "import zoo as menagerie\n",
    "\n",
    "# calling hours() function by following the module name\n",
    "menagerie.hours()"
   ]
  },
  {
   "cell_type": "markdown",
   "id": "7870d468",
   "metadata": {},
   "source": [
    "Q_(3):- Using the interpreter, explicitly import and call the hours() function from zoo.  \n",
    "\n",
    "Sol_3:-"
   ]
  },
  {
   "cell_type": "code",
   "execution_count": 3,
   "id": "5ab587e3",
   "metadata": {},
   "outputs": [
    {
     "name": "stdout",
     "output_type": "stream",
     "text": [
      "Open 9-5 daily\n"
     ]
    }
   ],
   "source": [
    "from zoo import hours\n",
    "\n",
    "hours()"
   ]
  },
  {
   "cell_type": "markdown",
   "id": "9b36be45",
   "metadata": {},
   "source": [
    "Q_(4):- Import the hours() function as info and call it.  \n",
    "\n",
    "Sol_4:-"
   ]
  },
  {
   "cell_type": "code",
   "execution_count": 4,
   "id": "a675aaae",
   "metadata": {},
   "outputs": [
    {
     "name": "stdout",
     "output_type": "stream",
     "text": [
      "Open 9-5 daily\n"
     ]
    }
   ],
   "source": [
    "from zoo import hours as info\n",
    "\n",
    "info()"
   ]
  },
  {
   "cell_type": "markdown",
   "id": "d50832b3",
   "metadata": {},
   "source": [
    "Q_(5):- Create a plain dictionary with the key-value pairs 'a': 1, 'b': 2, and 'c': 3, and print it out. \n",
    "\n",
    "Sol_5:-"
   ]
  },
  {
   "cell_type": "code",
   "execution_count": 5,
   "id": "f80b88e8",
   "metadata": {},
   "outputs": [
    {
     "data": {
      "text/plain": [
       "{'a': 1, 'b': 2, 'c': 3}"
      ]
     },
     "execution_count": 5,
     "metadata": {},
     "output_type": "execute_result"
    }
   ],
   "source": [
    "# create plain dictionary\n",
    "plain = {'a':1, 'b':2, 'c':3 }\n",
    "plain"
   ]
  },
  {
   "cell_type": "markdown",
   "id": "c0740c37",
   "metadata": {},
   "source": [
    "Q_(6):- Make an OrderedDict called fancy from the same pairs listed in 5 and print it. Did it print in the same order as plain?\n",
    "\n",
    "Sol_6:- No,the position of the key remains unchanged in OrderedDict."
   ]
  },
  {
   "cell_type": "code",
   "execution_count": 6,
   "id": "f1c120d8",
   "metadata": {},
   "outputs": [
    {
     "data": {
      "text/plain": [
       "OrderedDict([('a', 1), ('b', 2), ('c', 3)])"
      ]
     },
     "execution_count": 6,
     "metadata": {},
     "output_type": "execute_result"
    }
   ],
   "source": [
    "# importing oredereddict module which is subclass of dictionry\n",
    "from collections import OrderedDict\n",
    "\n",
    "fancy = OrderedDict([('a',1),('b',2),('c',3)])\n",
    "fancy"
   ]
  },
  {
   "cell_type": "markdown",
   "id": "20d29115",
   "metadata": {},
   "source": [
    "Q_(7):- Make a default dictionary called dict_of_lists and pass it the argument list. Make the list dict_of_lists['a'] and append the value 'something for a' to it in one assignment. Print dict_of_lists['a'].  \n",
    "\n",
    "Sol_7:- "
   ]
  },
  {
   "cell_type": "code",
   "execution_count": 7,
   "id": "167f685b",
   "metadata": {},
   "outputs": [
    {
     "name": "stdout",
     "output_type": "stream",
     "text": [
      "['something for a']\n"
     ]
    }
   ],
   "source": [
    "#importing defaultdict module which is subclass of dictionary\n",
    "from collections import defaultdict\n",
    "\n",
    "dict_of_lists = defaultdict(list)\n",
    "dict_of_lists['a'].append('something for a')\n",
    "print(dict_of_lists['a'])"
   ]
  }
 ],
 "metadata": {
  "kernelspec": {
   "display_name": "Python 3",
   "language": "python",
   "name": "python3"
  },
  "language_info": {
   "codemirror_mode": {
    "name": "ipython",
    "version": 3
   },
   "file_extension": ".py",
   "mimetype": "text/x-python",
   "name": "python",
   "nbconvert_exporter": "python",
   "pygments_lexer": "ipython3",
   "version": "3.8.8"
  }
 },
 "nbformat": 4,
 "nbformat_minor": 5
}
