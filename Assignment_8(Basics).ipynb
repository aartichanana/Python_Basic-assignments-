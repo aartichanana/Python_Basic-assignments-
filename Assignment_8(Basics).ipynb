{
 "cells": [
  {
   "cell_type": "markdown",
   "id": "3eb1e330",
   "metadata": {},
   "source": [
    "Q_(1):- Is the Python Standard Library included with PyInputPlus?  \n",
    "Sol_1:-No"
   ]
  },
  {
   "cell_type": "markdown",
   "id": "07b1b22c",
   "metadata": {},
   "source": [
    "Q_(2):- Why is PyInputPlus commonly imported with import pyinputplus as pypi?  \n",
    "Sol_2:- Because we need to write module name while calling any module function so that we can use a short name of that module. We can use pypi.inputStr() instead of PyInputPlus.inputStr(), both return same result."
   ]
  },
  {
   "cell_type": "markdown",
   "id": "19db677f",
   "metadata": {},
   "source": [
    "Q_(3):- How do you distinguish between inputInt() and inputFloat()?  \n",
    "Sol_3:- inputInt() - It accepts an integer value. And return integer datatype. \n",
    "        inputFloat() - It accept a floating point numeric value. And return float datatype."
   ]
  },
  {
   "cell_type": "markdown",
   "id": "39e4c337",
   "metadata": {},
   "source": [
    "Q_(4):- Using PyInputPlus, how do you ensure that the user enters a whole number between 0 and 99?    \n",
    "Sol_4:- By using pyip.inputInt(min=0, max=99)"
   ]
  },
  {
   "cell_type": "markdown",
   "id": "8337e273",
   "metadata": {},
   "source": [
    "Q_(5):- What is transferred to the keyword arguments allowRegexes and blockRegexes?  \n",
    "Sol_5:- In allowRegex we transferred a list of regular expression string which allow it to accept it as valid input.   \n",
    " In blockRegex we transferred a list of regular expression string which will not allow it to accept it as valid input (block that user input). "
   ]
  },
  {
   "cell_type": "markdown",
   "id": "ee91d324",
   "metadata": {},
   "source": [
    "Q_(6):- If a blank input is entered three times, what does inputStr(limit=3) do?  \n",
    "Sol_6:- It will raise an RetrylimitException."
   ]
  },
  {
   "cell_type": "markdown",
   "id": "0ac8f420",
   "metadata": {},
   "source": [
    "Q_(7):- If blank input is entered three times, what does inputStr(limit=3, default='hello') do?  \n",
    "Sol_7:- After entering blank input three times, it will return hello which is default value."
   ]
  }
 ],
 "metadata": {
  "kernelspec": {
   "display_name": "Python 3",
   "language": "python",
   "name": "python3"
  },
  "language_info": {
   "codemirror_mode": {
    "name": "ipython",
    "version": 3
   },
   "file_extension": ".py",
   "mimetype": "text/x-python",
   "name": "python",
   "nbconvert_exporter": "python",
   "pygments_lexer": "ipython3",
   "version": "3.8.8"
  }
 },
 "nbformat": 4,
 "nbformat_minor": 5
}
