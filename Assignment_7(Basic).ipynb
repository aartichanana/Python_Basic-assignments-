{
 "cells": [
  {
   "cell_type": "markdown",
   "id": "3d6631e4",
   "metadata": {},
   "source": [
    "Q_(1):- What is the name of the feature responsible for generating Regex objects?   \n",
    "Sol_1:- Compile method is responsible for generating Regex objects. We will use it as re.compile()."
   ]
  },
  {
   "cell_type": "markdown",
   "id": "fe251f28",
   "metadata": {},
   "source": [
    "Q_(2):- Why do raw strings often appear in Regex objects?  \n",
    "Sol_2:- In Regex objects the raw string notation as (r\"write any text inside it\"). Here 'r' creates a raw string.  \n",
    "We use it so that backslash do not have to be escaped. Because backslash has specific meaning which can escaped like- /t means do tab operation, \\n means de new line operation and so on.  \n",
    "For example:-"
   ]
  },
  {
   "cell_type": "code",
   "execution_count": 1,
   "id": "aa3b8aaa",
   "metadata": {},
   "outputs": [
    {
     "name": "stdout",
     "output_type": "stream",
     "text": [
      "HEY\tHi\n"
     ]
    }
   ],
   "source": [
    "print(\"HEY\\tHi\")  #/t- do tab operation"
   ]
  },
  {
   "cell_type": "code",
   "execution_count": 2,
   "id": "84329f23",
   "metadata": {},
   "outputs": [
    {
     "name": "stdout",
     "output_type": "stream",
     "text": [
      "HEY\\tHI\n"
     ]
    }
   ],
   "source": [
    "print(r\"HEY\\tHI\") # by using raw string it will not escaped the backslash and print the whole string as it is"
   ]
  },
  {
   "cell_type": "markdown",
   "id": "8e0f4179",
   "metadata": {},
   "source": [
    "Q_(3):- What is the return value of the search() method?   \n",
    "Sol_3:- In search() method \"match object\" is the return value when the pattern is found. But it will return \"null\" if pattern is not found."
   ]
  },
  {
   "cell_type": "markdown",
   "id": "5c63c245",
   "metadata": {},
   "source": [
    "Q_(4):- From a Match item, how do you get the actual strings that match the pattern?  \n",
    "Sol_4:- We use group() method to get the actual string. This method returns the part of the string where there it matched. "
   ]
  },
  {
   "cell_type": "markdown",
   "id": "ce1fbae0",
   "metadata": {},
   "source": [
    "Q_(5):- In the regex which created from the r'(\\d\\d\\d)-(\\d\\d\\d-\\d\\d\\d\\d)', what does group zero cover? Group 2? Group 1?  \n",
    "Sol_5:- The created regex form r'(\\d\\d\\d)-(\\d\\d\\d-\\d\\d\\d\\d)',   \n",
    "group zero cover the entire match- (\\d\\d\\d)-(\\d\\d\\d-\\d\\d\\d\\d)   \n",
    "group 1 covers the 1st set of parenthesis-  (\\d\\d\\d)  \n",
    "group 2 covers the 2nd set of parenthesis-  (\\d\\d\\d-\\d\\d\\d\\d)\n"
   ]
  },
  {
   "cell_type": "markdown",
   "id": "986e59b8",
   "metadata": {},
   "source": [
    "Q_(6):- In standard expression syntax, parentheses and intervals have distinct meanings. How can you tell a regex that you want it to fit real parentheses and periods?   \n",
    "Sol_6:- We have to use escape characters alongwith parenthesis to fit real parenthesis such as \\ ( and \\ )  in the raw string passed to re.compile() will match actual parenthesis characters. For period we use backslash as \\ ."
   ]
  },
  {
   "cell_type": "markdown",
   "id": "c20f7bc1",
   "metadata": {},
   "source": [
    "Q_(7):- The findall() method returns a string list or a list of string tuples. What causes it to return one of the two options?  \n",
    "Sol_7:- In case regex has no group, findall() method returns a list of that string.  \n",
    "In case regex has has groups, findall() method returns a list of tuples of the strings.   \n",
    "For example:-"
   ]
  },
  {
   "cell_type": "code",
   "execution_count": 3,
   "id": "5011231c",
   "metadata": {},
   "outputs": [
    {
     "data": {
      "text/plain": [
       "['111-222-3333', '444-555-6666']"
      ]
     },
     "execution_count": 3,
     "metadata": {},
     "output_type": "execute_result"
    }
   ],
   "source": [
    "import re\n",
    "phNumRegex = re.compile(r'\\d\\d\\d-\\d\\d\\d-\\d\\d\\d\\d')         # regex has no groups and will return list of string\n",
    "phNumRegex.findall('Aarti:111-222-3333,Neha:444-555-6666')"
   ]
  },
  {
   "cell_type": "code",
   "execution_count": 2,
   "id": "b22b87a9",
   "metadata": {},
   "outputs": [
    {
     "data": {
      "text/plain": [
       "[('111', '222', '3333')]"
      ]
     },
     "execution_count": 2,
     "metadata": {},
     "output_type": "execute_result"
    }
   ],
   "source": [
    "phNumRegex = re.compile(r'(\\d\\d\\d)-(\\d\\d\\d)-(\\d\\d\\d\\d)')    # regex has no groups and will return list of tuples of thatstrings\n",
    "phNumRegex.findall('Aarti:111-222-3333,Neha:444-5553-6666')"
   ]
  },
  {
   "cell_type": "markdown",
   "id": "50d8fc8f",
   "metadata": {},
   "source": [
    "Q_(8):- In standard expressions, what does the | character mean?  \n",
    "Sol_8:- The meaning of | character is to match one of many expression."
   ]
  },
  {
   "cell_type": "markdown",
   "id": "53e99717",
   "metadata": {},
   "source": [
    "Q_(9):- In regular expressions, what does the character stand for?  \n",
    "Sol_9:- In Regex ? means to match 0 or 1 of the group preceeding this question mark."
   ]
  },
  {
   "cell_type": "markdown",
   "id": "80012dde",
   "metadata": {},
   "source": [
    "Q_(10):- In regular expressions, what is the difference between the + and * characters?  \n",
    "Sol_10:- In Regex + character matches one or more occurences of the pattern left to it.   \n",
    "And * character matches zero or more occurences of the pattern left to it."
   ]
  },
  {
   "cell_type": "markdown",
   "id": "7fc13062",
   "metadata": {},
   "source": [
    "Q_(11):- What is the difference between {4} and {4,5} in regular expression?   \n",
    "SOl_11:- {4} mematches exact 4 repetition of the pattern left to it and {4,5} will matches atleast 4 and atmost 5 repetition of the pattern left to it.\n"
   ]
  },
  {
   "cell_type": "markdown",
   "id": "6812e426",
   "metadata": {},
   "source": [
    "Q_(12):- What do you mean by the \\d, \\w, and \\s shorthand character classes signify in regular expressions?  \n",
    "Sol_12:- \\d - it matches any decimal digit(0-9)  \n",
    "         \\w - it matches any alphanumeric character   \n",
    "         \\s - it matches where string contains any whitespace character."
   ]
  },
  {
   "cell_type": "markdown",
   "id": "9aa66c68",
   "metadata": {},
   "source": [
    "Q_(13):- What do means by \\D, \\W, and \\S shorthand character classes signify in regular expressions?  \n",
    "Sol_13:- \\D - it matches non decimal digit (opposite to \\d)  \n",
    "         \\W - it matches non alphanumeric character (opposite to \\w)  \n",
    "         \\S - it contains any non white space character (opposite to \\s)."
   ]
  },
  {
   "cell_type": "markdown",
   "id": "5d216b70",
   "metadata": {},
   "source": [
    "Q_(14):- What is the difference between (.*?) and (.*) ?   \n",
    "Sol_14:- The .* performs a greedy match which means keep searching further even after exact match is found and it will not stop if a matche found at certain string.   \n",
    "The .*? performs a non-greedy match which means match the smallest number of repetition.\n"
   ]
  },
  {
   "cell_type": "markdown",
   "id": "6869697e",
   "metadata": {},
   "source": [
    "Q_(15):- What is the syntax for matching both numbers and lowercase letters with a character class?  \n",
    "Sol_15:- For matching both numbers and lowercase letters with a character class we can use sytax either [0-9a-z] or [a-z0-9]."
   ]
  },
  {
   "cell_type": "markdown",
   "id": "cd5919d7",
   "metadata": {},
   "source": [
    "Q_(16):- What is the procedure for making a normal expression in regax case insensitive?  \n",
    "Sol_16:- By passing re.I or Re.IGNORECASE as the second argument to re.compile(). It will make our matching case insensitive."
   ]
  },
  {
   "cell_type": "markdown",
   "id": "2d408386",
   "metadata": {},
   "source": [
    "Q_(17):- What does the . character normally match? What does it match if re.DOTALL is passed as 2nd argument in re.compile()?  \n",
    "Sol_17:- The . character matches any character except the newline character. For this we use re.DOTALL passes as 2nd argument to re.compile() which matches all the characters including newline characters."
   ]
  },
  {
   "cell_type": "markdown",
   "id": "5d7ade9b",
   "metadata": {},
   "source": [
    "Q_(18):- If numReg = re.compile(r'\\d+'), what will numRegex.sub('X', '11 drummers, 10 pipers, five rings, 4 hen') return?  \n",
    "Sol_18:- Here we create Regex and then use sub() as substitute method. The first argument is X to replace digits pattern. The second is the string for the regular expression which is '11 drummers, 10 pipers, five rings, 4 hen'. The sub()\n",
    "return 'X drummers, X pipers, five rings, X hen'"
   ]
  },
  {
   "cell_type": "code",
   "execution_count": 7,
   "id": "68ba869e",
   "metadata": {},
   "outputs": [
    {
     "data": {
      "text/plain": [
       "'X drummers, X pipers, five rings, X hen'"
      ]
     },
     "execution_count": 7,
     "metadata": {},
     "output_type": "execute_result"
    }
   ],
   "source": [
    "import re\n",
    "numRegex = re.compile(r'\\d+')\n",
    "numRegex.sub('X', '11 drummers, 10 pipers, five rings, 4 hen') "
   ]
  },
  {
   "cell_type": "markdown",
   "id": "04d1765a",
   "metadata": {},
   "source": [
    "Q_(19):- What does passing re.VERBOSE as the 2nd argument to re.compile() allow to do?  \n",
    "Sol_19:- By passing re.VERBOSE as the 2nd argument to re.compile() it will allow to add whitespace and comments to the string."
   ]
  },
  {
   "cell_type": "markdown",
   "id": "cf21786b",
   "metadata": {},
   "source": [
    "Q_(20):- How would you write a regex that match a number with comma for every three digits? It must match the given following:\n",
    "\n",
    "'42'\n",
    "\n",
    "'1,234'\n",
    "\n",
    "'6,368,745'\n",
    "\n",
    "but not the following:\n",
    "\n",
    "'12,34,567' (which has only two digits between the commas)\n",
    "\n",
    "'1234' (which lacks commas)\n",
    "\n",
    "Sol_19:- By using regular expression of-  \n",
    "pattern = re.compile(r'\\d{1,3}(,\\d{3})*')\n",
    "\n",
    "can be shown below:-"
   ]
  },
  {
   "cell_type": "code",
   "execution_count": 1,
   "id": "8a9e7f68",
   "metadata": {},
   "outputs": [
    {
     "name": "stdout",
     "output_type": "stream",
     "text": [
      "Enter any number with commas\n",
      "12,34,567\n",
      "Does Not Match the Regular Expression!\n"
     ]
    }
   ],
   "source": [
    "import re\n",
    "\n",
    "print('Enter any number with commas')\n",
    "sentence = input()\n",
    "\n",
    "pattern = re.compile(r'^\\d{1,3}(,\\d{3})*')\n",
    "\n",
    "matches = pattern.match(sentence)\n",
    "#Checks if the input value\n",
    "if matches.group(0) != sentence:\n",
    "    # give msg that does NOT match the pattern.\n",
    "    print ('Does Not Match the Regular Expression!')\n",
    "\n",
    "else:\n",
    "    print(matches.group(0)+ ' matches the pattern.')\n",
    "    #If the values match it will give msg."
   ]
  },
  {
   "cell_type": "markdown",
   "id": "c757413c",
   "metadata": {},
   "source": [
    "Q_(21):- How would you write a regex that matches the full name of someone whose last name is Watanabe? You can assume that the first name that comes before it will always be one word that begins with a capital letter. The regex must match the following:\n",
    "\n",
    "'Haruto Watanabe'\n",
    "\n",
    "'Alice Watanabe'\n",
    "\n",
    "'RoboCop Watanabe'\n",
    "\n",
    "but not the following:\n",
    "\n",
    "'haruto Watanabe' (where the first name is not capitalized)\n",
    "\n",
    "'Mr. Watanabe' (where the preceding word has a nonletter \n",
    "character)\n",
    "\n",
    "'Watanabe' (which has no first name)\n",
    "\n",
    "'Haruto watanabe' (where Watanabe is not capitalized)\n",
    "\n",
    "Sol_21:- By using\n",
    "\n",
    "pattern = re.compile(r'[A-Z][a-z]*\\sWatanabe')"
   ]
  },
  {
   "cell_type": "markdown",
   "id": "9444196a",
   "metadata": {},
   "source": [
    "Q_(22):-How would you write a regex that matches a sentence where the first word is either Alice, Bob, or Carol; the second word is either eats, pets, or throws; the third word is apples, cats, or baseballs; and the sentence ends with a period? This regex should be case-insensitive. It must match the following:\n",
    "\n",
    "'Alice eats apples.'\n",
    "\n",
    "'Bob pets cats.'\n",
    "\n",
    "'Carol throws baseballs.'\n",
    "\n",
    "'Alice throws Apples.'\n",
    "\n",
    "'BOB EATS CATS.'\n",
    "\n",
    "but not the following:\n",
    "\n",
    "'RoboCop eats apples.'\n",
    "\n",
    "'ALICE THROWS FOOTBALLS.'\n",
    "\n",
    "'Carol eats 7 cats.'  \n",
    "Sol_22:- By using\n",
    "\n",
    "pattern = re.compile(r'(Alice|Bob|Carol)\\s(eats|pets|throws)\\s(apples|cats\n",
    "|baseballs)\\.', re.IGNORECASE)"
   ]
  }
 ],
 "metadata": {
  "kernelspec": {
   "display_name": "Python 3",
   "language": "python",
   "name": "python3"
  },
  "language_info": {
   "codemirror_mode": {
    "name": "ipython",
    "version": 3
   },
   "file_extension": ".py",
   "mimetype": "text/x-python",
   "name": "python",
   "nbconvert_exporter": "python",
   "pygments_lexer": "ipython3",
   "version": "3.8.8"
  }
 },
 "nbformat": 4,
 "nbformat_minor": 5
}
