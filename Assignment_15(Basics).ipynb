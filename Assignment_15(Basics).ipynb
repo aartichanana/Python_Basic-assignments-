{
 "cells": [
  {
   "cell_type": "markdown",
   "id": "c185e38f",
   "metadata": {},
   "source": [
    "Q_(1):- How many seconds are in an hour? Use the interactive interpreter as a calculator and multiply the number of seconds in a minute (60) by the number of minutes in an hour (also 60).  \n",
    "Sol_1:- 60sec*60min(in 1h)"
   ]
  },
  {
   "cell_type": "code",
   "execution_count": 1,
   "id": "4fe88b58",
   "metadata": {},
   "outputs": [
    {
     "data": {
      "text/plain": [
       "3600"
      ]
     },
     "execution_count": 1,
     "metadata": {},
     "output_type": "execute_result"
    }
   ],
   "source": [
    "60*60"
   ]
  },
  {
   "cell_type": "markdown",
   "id": "5d53720c",
   "metadata": {},
   "source": [
    "Q_(2):- Assign the result from the previous task (seconds in an hour) to a variable called seconds_per_hour.  \n",
    "Sol_2:-  "
   ]
  },
  {
   "cell_type": "code",
   "execution_count": 2,
   "id": "64d32b25",
   "metadata": {},
   "outputs": [
    {
     "data": {
      "text/plain": [
       "3600"
      ]
     },
     "execution_count": 2,
     "metadata": {},
     "output_type": "execute_result"
    }
   ],
   "source": [
    "second_per_hour = 60*60\n",
    "second_per_hour"
   ]
  },
  {
   "cell_type": "markdown",
   "id": "22ba9f54",
   "metadata": {},
   "source": [
    "Q_(3):- How many seconds do you think there are in a day? Make use of the variables seconds per hour and minutes per hour.   \n",
    "Sol_3:-  "
   ]
  },
  {
   "cell_type": "code",
   "execution_count": 4,
   "id": "237697ce",
   "metadata": {},
   "outputs": [
    {
     "data": {
      "text/plain": [
       "86400"
      ]
     },
     "execution_count": 4,
     "metadata": {},
     "output_type": "execute_result"
    }
   ],
   "source": [
    "second_per_hour*24"
   ]
  },
  {
   "cell_type": "markdown",
   "id": "674179f3",
   "metadata": {},
   "source": [
    "Q_(4):- Calculate seconds per day again, but this time save the result in a variable called seconds_per_day   \n",
    "Sol_4:-   "
   ]
  },
  {
   "cell_type": "code",
   "execution_count": 5,
   "id": "05c98c5d",
   "metadata": {},
   "outputs": [
    {
     "data": {
      "text/plain": [
       "86400"
      ]
     },
     "execution_count": 5,
     "metadata": {},
     "output_type": "execute_result"
    }
   ],
   "source": [
    "second_per_day = second_per_hour*24\n",
    "second_per_day"
   ]
  },
  {
   "cell_type": "markdown",
   "id": "4f621440",
   "metadata": {},
   "source": [
    "Q_(5):- Divide seconds_per_day by seconds_per_hour. Use floating-point (/) division.   \n",
    "Sol_5:-"
   ]
  },
  {
   "cell_type": "code",
   "execution_count": 6,
   "id": "eddb78f6",
   "metadata": {},
   "outputs": [
    {
     "data": {
      "text/plain": [
       "24.0"
      ]
     },
     "execution_count": 6,
     "metadata": {},
     "output_type": "execute_result"
    }
   ],
   "source": [
    "second_per_day/second_per_hour"
   ]
  },
  {
   "cell_type": "markdown",
   "id": "1895251e",
   "metadata": {},
   "source": [
    "Q_(6):- Divide seconds_per_day by seconds_per_hour, using integer (//) division. Did this number agree with the floating-point value from the previous question, aside from the final .0?   \n",
    "Sol_6:- yes"
   ]
  },
  {
   "cell_type": "code",
   "execution_count": 7,
   "id": "797d7578",
   "metadata": {},
   "outputs": [
    {
     "data": {
      "text/plain": [
       "24"
      ]
     },
     "execution_count": 7,
     "metadata": {},
     "output_type": "execute_result"
    }
   ],
   "source": [
    "second_per_day//second_per_hour"
   ]
  },
  {
   "cell_type": "markdown",
   "id": "ff594335",
   "metadata": {},
   "source": [
    "Q_(7):- Write a generator, genPrimes, that returns the sequence of prime numbers on successive calls to its next() method: 2, 3, 5, 7, 11, ..."
   ]
  },
  {
   "cell_type": "code",
   "execution_count": 1,
   "id": "f6333537",
   "metadata": {},
   "outputs": [],
   "source": [
    "def genPrimes():\n",
    "    primes = []\n",
    "    n = 2\n",
    "    last = n\n",
    "\n",
    "    while True:\n",
    "        for i in primes:\n",
    "            if n % i == 0:\n",
    "                n += 1\n",
    "                break\n",
    "\n",
    "        else:\n",
    "            primes.append(n)\n",
    "            last = n\n",
    "            n += 1\n",
    "            yield last\n",
    "g = genPrimes()"
   ]
  },
  {
   "cell_type": "code",
   "execution_count": 2,
   "id": "0df3dbbe",
   "metadata": {},
   "outputs": [
    {
     "data": {
      "text/plain": [
       "2"
      ]
     },
     "execution_count": 2,
     "metadata": {},
     "output_type": "execute_result"
    }
   ],
   "source": [
    "next(g)"
   ]
  },
  {
   "cell_type": "code",
   "execution_count": 3,
   "id": "b88224f6",
   "metadata": {},
   "outputs": [
    {
     "data": {
      "text/plain": [
       "3"
      ]
     },
     "execution_count": 3,
     "metadata": {},
     "output_type": "execute_result"
    }
   ],
   "source": [
    "next(g)"
   ]
  },
  {
   "cell_type": "code",
   "execution_count": 4,
   "id": "4f91a43b",
   "metadata": {},
   "outputs": [
    {
     "data": {
      "text/plain": [
       "5"
      ]
     },
     "execution_count": 4,
     "metadata": {},
     "output_type": "execute_result"
    }
   ],
   "source": [
    "next(g)"
   ]
  },
  {
   "cell_type": "code",
   "execution_count": 5,
   "id": "c09b6e31",
   "metadata": {},
   "outputs": [
    {
     "data": {
      "text/plain": [
       "7"
      ]
     },
     "execution_count": 5,
     "metadata": {},
     "output_type": "execute_result"
    }
   ],
   "source": [
    "next(g)"
   ]
  },
  {
   "cell_type": "code",
   "execution_count": 6,
   "id": "c707667c",
   "metadata": {},
   "outputs": [
    {
     "data": {
      "text/plain": [
       "11"
      ]
     },
     "execution_count": 6,
     "metadata": {},
     "output_type": "execute_result"
    }
   ],
   "source": [
    "next(g)"
   ]
  },
  {
   "cell_type": "code",
   "execution_count": 7,
   "id": "102ade33",
   "metadata": {},
   "outputs": [
    {
     "data": {
      "text/plain": [
       "13"
      ]
     },
     "execution_count": 7,
     "metadata": {},
     "output_type": "execute_result"
    }
   ],
   "source": [
    "next(g)"
   ]
  },
  {
   "cell_type": "code",
   "execution_count": 8,
   "id": "3a32367f",
   "metadata": {},
   "outputs": [
    {
     "data": {
      "text/plain": [
       "17"
      ]
     },
     "execution_count": 8,
     "metadata": {},
     "output_type": "execute_result"
    }
   ],
   "source": [
    "next(g)"
   ]
  }
 ],
 "metadata": {
  "kernelspec": {
   "display_name": "Python 3",
   "language": "python",
   "name": "python3"
  },
  "language_info": {
   "codemirror_mode": {
    "name": "ipython",
    "version": 3
   },
   "file_extension": ".py",
   "mimetype": "text/x-python",
   "name": "python",
   "nbconvert_exporter": "python",
   "pygments_lexer": "ipython3",
   "version": "3.8.8"
  }
 },
 "nbformat": 4,
 "nbformat_minor": 5
}
