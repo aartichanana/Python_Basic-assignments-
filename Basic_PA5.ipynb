{
 "cells": [
  {
   "cell_type": "markdown",
   "id": "462dbffa",
   "metadata": {},
   "source": [
    "Q_(1):- Write a Python Program to Find LCM?\n",
    "\n",
    "Sol_1:-"
   ]
  },
  {
   "cell_type": "code",
   "execution_count": 7,
   "id": "bf8d0c11",
   "metadata": {},
   "outputs": [
    {
     "name": "stdout",
     "output_type": "stream",
     "text": [
      "216\n"
     ]
    }
   ],
   "source": [
    "x = 54\n",
    "y = 24\n",
    "if x > y:\n",
    "    greater = x\n",
    "else:\n",
    "    greater = y\n",
    "\n",
    "while(True):\n",
    "    if((greater % x == 0) and (greater % y == 0)):\n",
    "        lcm = greater\n",
    "        break\n",
    "    greater += 1\n",
    "\n",
    "print(lcm)"
   ]
  },
  {
   "cell_type": "markdown",
   "id": "6267415d",
   "metadata": {},
   "source": [
    "Q_(2):- Write a Python Program to Find HCF?\n",
    "\n",
    "Sol_2:-"
   ]
  },
  {
   "cell_type": "code",
   "execution_count": 8,
   "id": "a90fc88c",
   "metadata": {},
   "outputs": [
    {
     "name": "stdout",
     "output_type": "stream",
     "text": [
      "4\n"
     ]
    }
   ],
   "source": [
    "x = 8\n",
    "y = 12\n",
    "if x > y:  \n",
    "    smaller = y  \n",
    "else:  \n",
    "    smaller = x  \n",
    "\n",
    "for i in range(1,smaller + 1):  \n",
    "    if((x % i == 0) and (y % i == 0)):\n",
    "        hcf = i  \n",
    "print(hcf)  "
   ]
  },
  {
   "cell_type": "markdown",
   "id": "1f19c0e2",
   "metadata": {},
   "source": [
    "Q_(3):- Write a Python Program to Convert Decimal to Binary, Octal and Hexadecimal?\n",
    "\n",
    "Sol_3:-"
   ]
  },
  {
   "cell_type": "code",
   "execution_count": 2,
   "id": "78299972",
   "metadata": {},
   "outputs": [
    {
     "name": "stdout",
     "output_type": "stream",
     "text": [
      "Enter any decimal number: 34\n",
      "The decimal value of 34 is:\n",
      "0b100010 in binary.\n",
      "0o42 in octal.\n",
      "0x22 in hexadecimal.\n"
     ]
    }
   ],
   "source": [
    "dec_num = int(input(\"Enter any decimal number: \"))\n",
    "\n",
    "print(\"The decimal value of\", dec_num, \"is:\")\n",
    "print(bin(dec_num), \"in binary.\")\n",
    "print(oct(dec_num), \"in octal.\")\n",
    "print(hex(dec_num), \"in hexadecimal.\")"
   ]
  },
  {
   "cell_type": "markdown",
   "id": "24cfaa4e",
   "metadata": {},
   "source": [
    "Q_(4):- Write a Python Program To Find ASCII value of a character?\n",
    "\n",
    "Sol_4:-"
   ]
  },
  {
   "cell_type": "code",
   "execution_count": 5,
   "id": "c8040d8f",
   "metadata": {},
   "outputs": [
    {
     "name": "stdout",
     "output_type": "stream",
     "text": [
      "Enter any character: t\n",
      "The ASCII value of 't' is 114\n"
     ]
    }
   ],
   "source": [
    "char = str(input(\"Enter any character: \"))\n",
    "print(\"The ASCII value of '\" + char + \"' is\", ord(c))"
   ]
  },
  {
   "cell_type": "markdown",
   "id": "c9571453",
   "metadata": {},
   "source": [
    "Q_(5):- Write a Python Program to Make a Simple Calculator with 4 basic mathematical operations?\n",
    "\n",
    "Sol_5:-"
   ]
  },
  {
   "cell_type": "code",
   "execution_count": 6,
   "id": "3eb02685",
   "metadata": {
    "scrolled": true
   },
   "outputs": [
    {
     "name": "stdout",
     "output_type": "stream",
     "text": [
      "Enter 1st number:21\n",
      "Enter choice:\n",
      "'+'\n",
      "'-'\n",
      "'*'\n",
      "'/'\n",
      " +\n",
      "Enter 2nd number:34\n",
      "21+34=55\n"
     ]
    }
   ],
   "source": [
    "a = int(input(\"Enter 1st number:\"))\n",
    "\n",
    "def add(x, y):#=======doubt\n",
    "    return (x + y)\n",
    "\n",
    "def sub(x, y):\n",
    "     return (x - y)\n",
    "\n",
    "def mul(x, y):\n",
    "    return (x * y)\n",
    "\n",
    "\n",
    "def divide(x, y):\n",
    "    return (x / y)\n",
    "\n",
    "\n",
    "# print(\"Select operation:\\n 1.Add\\n 2.Subtract\\n 3.Multiply\\n 4.Divide \")\n",
    "\n",
    "\n",
    "\n",
    "    # take input from the user\n",
    "choice = (input(\"Enter choice:\\n'+'\\n'-'\\n'*'\\n'/'\\n \"))\n",
    "b = int(input(\"Enter 2nd number:\"))\n",
    "           \n",
    "if choice=='+':\n",
    "    res = add(a,b)\n",
    "        \n",
    "elif choice=='-':\n",
    "    res = sub(a,b)\n",
    "        \n",
    "elif choice=='*':\n",
    "    res = mul(a,b)\n",
    "    \n",
    "elif choice=='/':\n",
    "    res = divide(a,b)\n",
    "    \n",
    "    \n",
    "print(str(a)+choice+str(b)+\"=\"+str(res))\n",
    "           \n",
    "        \n",
    "        "
   ]
  },
  {
   "cell_type": "code",
   "execution_count": null,
   "id": "cd76f448",
   "metadata": {},
   "outputs": [],
   "source": []
  },
  {
   "cell_type": "code",
   "execution_count": null,
   "id": "21fc6e66",
   "metadata": {},
   "outputs": [],
   "source": []
  }
 ],
 "metadata": {
  "kernelspec": {
   "display_name": "Python 3 (ipykernel)",
   "language": "python",
   "name": "python3"
  },
  "language_info": {
   "codemirror_mode": {
    "name": "ipython",
    "version": 3
   },
   "file_extension": ".py",
   "mimetype": "text/x-python",
   "name": "python",
   "nbconvert_exporter": "python",
   "pygments_lexer": "ipython3",
   "version": "3.9.7"
  }
 },
 "nbformat": 4,
 "nbformat_minor": 5
}
