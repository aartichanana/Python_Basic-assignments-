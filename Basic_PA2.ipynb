{
 "cells": [
  {
   "cell_type": "markdown",
   "id": "53e52037",
   "metadata": {},
   "source": [
    "Q_(1):- Write a Python program to convert kilometers to miles\n",
    "\n",
    "Sol_1:-"
   ]
  },
  {
   "cell_type": "code",
   "execution_count": 3,
   "id": "49be8409",
   "metadata": {},
   "outputs": [
    {
     "name": "stdout",
     "output_type": "stream",
     "text": [
      "Enter value in kilometers: 39\n",
      "39.0 kilometers is equal to 24.233469 miles\n"
     ]
    }
   ],
   "source": [
    "# Take input from the user in km\n",
    "kilometers = float(input(\"Enter value in kilometers: \"))\n",
    "\n",
    "# conversion factor\n",
    "conv_fac = 0.621371\n",
    "\n",
    "# calculate into miles\n",
    "miles = kilometers * conv_fac\n",
    "print('{} kilometers is equal to {} miles'.format(kilometers,miles))"
   ]
  },
  {
   "cell_type": "markdown",
   "id": "ba6841da",
   "metadata": {},
   "source": [
    "Q_(2):- Write a Python program to convert Celsius to Fahrenheit?\n",
    "\n",
    "Sol_2:-"
   ]
  },
  {
   "cell_type": "code",
   "execution_count": 4,
   "id": "7829f848",
   "metadata": {},
   "outputs": [
    {
     "name": "stdout",
     "output_type": "stream",
     "text": [
      "Enter value in Celsius: 34\n",
      "The converted value in Fahrenheit is:  93.2\n"
     ]
    }
   ],
   "source": [
    "#Take input from the user in celsius\n",
    "celsius = float(input(\"Enter value in Celsius: \"))\n",
    "\n",
    "#calculate into fahrenheit\n",
    "fahrenheit = (celsius * 1.8) + 32\n",
    "print(\"The converted value in Fahrenheit is: \", fahrenheit)"
   ]
  },
  {
   "cell_type": "markdown",
   "id": "1ad2d61a",
   "metadata": {},
   "source": [
    "Q_(3):- Write a Python program to display calendar?\n",
    "\n",
    "Sol_3:-"
   ]
  },
  {
   "cell_type": "code",
   "execution_count": 5,
   "id": "d7bad27e",
   "metadata": {},
   "outputs": [
    {
     "name": "stdout",
     "output_type": "stream",
     "text": [
      "     March 2022\n",
      "Mo Tu We Th Fr Sa Su\n",
      "    1  2  3  4  5  6\n",
      " 7  8  9 10 11 12 13\n",
      "14 15 16 17 18 19 20\n",
      "21 22 23 24 25 26 27\n",
      "28 29 30 31\n",
      "\n"
     ]
    }
   ],
   "source": [
    "#importing calendar module\n",
    "import calendar\n",
    "\n",
    " # year and month\n",
    "yy = 2022 \n",
    "mm = 3 \n",
    "\n",
    "#display the calendar\n",
    "print(calendar.month(yy, mm))"
   ]
  },
  {
   "cell_type": "markdown",
   "id": "abd9c76b",
   "metadata": {},
   "source": [
    "Q_(4):- Write a Python program to solve quadratic equation?\n",
    "\n",
    "Sol_4:-"
   ]
  },
  {
   "cell_type": "code",
   "execution_count": 15,
   "id": "794e1076",
   "metadata": {},
   "outputs": [
    {
     "name": "stdout",
     "output_type": "stream",
     "text": [
      "enter a: 4\n",
      "enter b: 10\n",
      "enter c: 6\n",
      "The solution are (-1.5+0j) and (-1+0j)\n"
     ]
    }
   ],
   "source": [
    "#Solve the quadratic equation ax**2 + bx + c = 0\n",
    "\n",
    "#import complex math module\n",
    "import cmath\n",
    "\n",
    "a = int(input(\"enter a: \"))\n",
    "b = int(input(\"enter b: \"))\n",
    "c = int(input(\"enter c: \"))\n",
    "\n",
    "#calculate the discriminant\n",
    "d = (b**2) - (4*a*c)\n",
    "\n",
    "#solutions\n",
    "s1 = (-b-cmath.sqrt(d))/(2*a)\n",
    "s2 = (-b+cmath.sqrt(d))/(2*a)\n",
    "\n",
    "print('The solution are {0} and {1}'.format(s1,s2))"
   ]
  },
  {
   "cell_type": "markdown",
   "id": "deb8d997",
   "metadata": {},
   "source": [
    "Q_(5):- Write a Python program to swap two variables without temp variable?\n",
    "\n",
    "Sol_5:-"
   ]
  },
  {
   "cell_type": "code",
   "execution_count": 16,
   "id": "7683ed31",
   "metadata": {},
   "outputs": [
    {
     "name": "stdout",
     "output_type": "stream",
     "text": [
      "Enter value of a: 2\n",
      "Enter value of b: 3\n",
      "After swapping without temp variable value of a and b is 3.0, 2.0\n"
     ]
    }
   ],
   "source": [
    "a = float(input('Enter value of a: '))\n",
    "b = float(input('Enter value of b: '))\n",
    "# a = a+b\n",
    "# b = a-b\n",
    "# a = a-b\n",
    "\n",
    "a,b=b,a\n",
    "print(\"After swapping without temp variable value of a and b is {}, {}\".format(a,b))"
   ]
  }
 ],
 "metadata": {
  "kernelspec": {
   "display_name": "Python 3 (ipykernel)",
   "language": "python",
   "name": "python3"
  },
  "language_info": {
   "codemirror_mode": {
    "name": "ipython",
    "version": 3
   },
   "file_extension": ".py",
   "mimetype": "text/x-python",
   "name": "python",
   "nbconvert_exporter": "python",
   "pygments_lexer": "ipython3",
   "version": "3.9.7"
  }
 },
 "nbformat": 4,
 "nbformat_minor": 5
}
