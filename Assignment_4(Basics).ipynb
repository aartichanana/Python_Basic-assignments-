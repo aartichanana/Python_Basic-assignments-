{
 "cells": [
  {
   "cell_type": "markdown",
   "id": "f3012a23",
   "metadata": {},
   "source": [
    "Q_(1):- What exactly is []?                                                                                                     \n",
    "Sol_1:- It is a sqaure brackets. In Python, this is used to create a list."
   ]
  },
  {
   "cell_type": "markdown",
   "id": "95a9cd7c",
   "metadata": {},
   "source": [
    "Q_(2):- In a list of values stored in a variable called spam, how would you assign the value 'hello' as the third value? (Assume [2, 4, 6, 8, 10] are in spam.)                                                                                                 \n",
    "Sol_2:- By using insert()."
   ]
  },
  {
   "cell_type": "code",
   "execution_count": 2,
   "id": "6a2db2dd",
   "metadata": {},
   "outputs": [
    {
     "data": {
      "text/plain": [
       "[2, 4, 'hello', 6, 8, 10]"
      ]
     },
     "execution_count": 2,
     "metadata": {},
     "output_type": "execute_result"
    }
   ],
   "source": [
    "spam = [2,4,6,8,10]\n",
    "spam.insert(2,'hello')    # insert() function use index value to insert a nerw element in a list. Third value present at index 2 \n",
    "spam"
   ]
  },
  {
   "cell_type": "markdown",
   "id": "322180d6",
   "metadata": {},
   "source": [
    "Let's pretend the spam includes the list ['a', 'b', 'c', 'd'] for the next three queries.(3-5)"
   ]
  },
  {
   "cell_type": "markdown",
   "id": "82f1c336",
   "metadata": {},
   "source": [
    "Q_(3):- What is the value of spam[int(int('3' * 2) / 11 )] ?                                                                   \n",
    "Sol_3:- "
   ]
  },
  {
   "cell_type": "code",
   "execution_count": 7,
   "id": "77959c9b",
   "metadata": {},
   "outputs": [
    {
     "data": {
      "text/plain": [
       "'d'"
      ]
     },
     "execution_count": 7,
     "metadata": {},
     "output_type": "execute_result"
    }
   ],
   "source": [
    "spam = ['a','b','c','d']\n",
    "spam1 =  spam[int(int('3' * 2)/ 11)]\n",
    "spam1"
   ]
  },
  {
   "cell_type": "markdown",
   "id": "08c9c4ab",
   "metadata": {},
   "source": [
    "Q_(4):- What is the value of spam[-1]?                                                                                         \n",
    "Sol_4:- "
   ]
  },
  {
   "cell_type": "code",
   "execution_count": 8,
   "id": "68af0207",
   "metadata": {},
   "outputs": [
    {
     "data": {
      "text/plain": [
       "'d'"
      ]
     },
     "execution_count": 8,
     "metadata": {},
     "output_type": "execute_result"
    }
   ],
   "source": [
    "spam2 = spam[-1]\n",
    "spam2"
   ]
  },
  {
   "cell_type": "markdown",
   "id": "6e30ac81",
   "metadata": {},
   "source": [
    "Q_(5):- What is the value of spam[:2]?                                                                                         \n",
    "Sol_5:- "
   ]
  },
  {
   "cell_type": "code",
   "execution_count": 9,
   "id": "a30d329a",
   "metadata": {},
   "outputs": [
    {
     "data": {
      "text/plain": [
       "['a', 'b']"
      ]
     },
     "execution_count": 9,
     "metadata": {},
     "output_type": "execute_result"
    }
   ],
   "source": [
    "spam3 = spam[:2]\n",
    "spam3"
   ]
  },
  {
   "cell_type": "markdown",
   "id": "54c54eff",
   "metadata": {},
   "source": [
    "Let's pretend bacon has the list [3.14, 'cat,' 11, 'cat,' True] for the next three questions."
   ]
  },
  {
   "cell_type": "markdown",
   "id": "3a0ad58a",
   "metadata": {},
   "source": [
    "Q_(6):- What is the value of bacon.index('cat')?                                                                               \n",
    "Sol_6:- "
   ]
  },
  {
   "cell_type": "code",
   "execution_count": 10,
   "id": "a21608e0",
   "metadata": {},
   "outputs": [
    {
     "data": {
      "text/plain": [
       "1"
      ]
     },
     "execution_count": 10,
     "metadata": {},
     "output_type": "execute_result"
    }
   ],
   "source": [
    "bacon = [3.14,'cat',11,'cat', True]\n",
    "bacon.index('cat')"
   ]
  },
  {
   "cell_type": "markdown",
   "id": "e232a432",
   "metadata": {},
   "source": [
    "Q_(7):- How does bacon.append(99) change the look of the list value in bacon?                                                   \n",
    "Sol_7:-"
   ]
  },
  {
   "cell_type": "code",
   "execution_count": 15,
   "id": "06513739",
   "metadata": {},
   "outputs": [
    {
     "data": {
      "text/plain": [
       "[3.14, 'cat', 11, 'cat', True, 99]"
      ]
     },
     "execution_count": 15,
     "metadata": {},
     "output_type": "execute_result"
    }
   ],
   "source": [
    "bacon = [3.14,'cat',11,'cat', True]\n",
    "bacon.append(99)\n",
    "bacon"
   ]
  },
  {
   "cell_type": "markdown",
   "id": "3275a4fc",
   "metadata": {},
   "source": [
    "Q_(8):- How does bacon.remove('cat') change the look of the list in bacon?                                                     \n",
    "Sol_8:- "
   ]
  },
  {
   "cell_type": "code",
   "execution_count": 16,
   "id": "3e3866a9",
   "metadata": {},
   "outputs": [
    {
     "data": {
      "text/plain": [
       "[3.14, 11, 'cat', True]"
      ]
     },
     "execution_count": 16,
     "metadata": {},
     "output_type": "execute_result"
    }
   ],
   "source": [
    "bacon = [3.14,'cat',11,'cat', True]\n",
    "bacon.remove('cat')\n",
    "bacon"
   ]
  },
  {
   "cell_type": "markdown",
   "id": "74634419",
   "metadata": {},
   "source": [
    "Q_(9):- What are the list concatenation and list replication operators?                                                         \n",
    "Sol_9:- List concatination means to concatinate or add all the list by using ( + ) operator. List replication means replicate or duplicate the same sequence by using ( * ) operator."
   ]
  },
  {
   "cell_type": "markdown",
   "id": "c85e9c65",
   "metadata": {},
   "source": [
    "Q_(10):- What is difference between the list methods append() and insert()?                                                     \n",
    "Sol_10:- The function append() add the new element at the end of the list. It uses value as an argument which has to be added.   \n",
    "But the insert() function add the element at particular index. It uses index as an argument where has to be added."
   ]
  },
  {
   "cell_type": "markdown",
   "id": "cdbb9a2a",
   "metadata": {},
   "source": [
    "Q_(11):- What are the two methods for removing items from a list?                                                               \n",
    "Sol_11:- Two methods for removing items from a list are: pop() and remove().                                                   \n",
    "pop() use  index as an argument of the element you want to delete.                                                             \n",
    "remove() use element as an argument which you want to delete."
   ]
  },
  {
   "cell_type": "markdown",
   "id": "018996e9",
   "metadata": {},
   "source": [
    "Q_(12):- Describe how list values and string values are identical.                                                             \n",
    "Sol_12:- 1) In both list and string values length can be determine by len() function.                                           \n",
    "         2) In both cases, index is used to perform any kind of operations.                                                     \n",
    "         3) In both cases we can perform slicing method."
   ]
  },
  {
   "cell_type": "markdown",
   "id": "ae3232a6",
   "metadata": {},
   "source": [
    "Q_(13):- What's the difference between tuples and lists?                                                                       \n",
    "Sol_13:- Tuples are created using (). But lists are created using [].                                                           \n",
    "Tuples are immutable but lists are mutable.                                                                                     \n",
    "In tuple we can do only perform two operation i.e. count() and index() but in lists we can perform many operations. "
   ]
  },
  {
   "cell_type": "markdown",
   "id": "227045c3",
   "metadata": {},
   "source": [
    "Q_(14):- How do you type a tuple value that only contains the integer 42?                                                       \n",
    "Sol_14:- It can be write as-  t = (42,)"
   ]
  },
  {
   "cell_type": "markdown",
   "id": "31bac383",
   "metadata": {},
   "source": [
    "Q_(15):- How do you get a list value's tuple form? How do you get a tuple value's list form?                                   \n",
    "Sol_15:- By using typecasting we can convert list into tuple using-- tuple() and for tuple into list we use-- list()"
   ]
  },
  {
   "cell_type": "markdown",
   "id": "a27e5d30",
   "metadata": {},
   "source": [
    "Q_(16):- Variables that \"contain\" list values are not necessarily lists themselves. Instead, what do they contain?"
   ]
  },
  {
   "cell_type": "markdown",
   "id": "b6807626",
   "metadata": {},
   "source": [
    "Q_(17):- How do you distinguish between copy.copy() and copy.deepcopy()?                                                       \n",
    "SOl_17:- 1) The copy() function return a shallow copy of x and deepcopy() function return a deep copy of x.                     \n",
    "         2) A shallow copy will create a new object which stores the reference of the original elements and it doesn't create a copy of nested objects. But a deep copy will create a new object and same adds the copies of nested objects present in the original elements.                                                                                                             "
   ]
  }
 ],
 "metadata": {
  "kernelspec": {
   "display_name": "Python 3",
   "language": "python",
   "name": "python3"
  },
  "language_info": {
   "codemirror_mode": {
    "name": "ipython",
    "version": 3
   },
   "file_extension": ".py",
   "mimetype": "text/x-python",
   "name": "python",
   "nbconvert_exporter": "python",
   "pygments_lexer": "ipython3",
   "version": "3.8.8"
  }
 },
 "nbformat": 4,
 "nbformat_minor": 5
}
