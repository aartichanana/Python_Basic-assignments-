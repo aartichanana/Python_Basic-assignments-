{
 "cells": [
  {
   "cell_type": "markdown",
   "id": "7712b6e6",
   "metadata": {},
   "source": [
    "Q_(1):- To what does a relative path refer?  \n",
    "Sol_1:- Relative path means the 'location' of a file or a folder that is related to the current working directory(cwd)."
   ]
  },
  {
   "cell_type": "markdown",
   "id": "98d3c939",
   "metadata": {},
   "source": [
    "Q_(2):- What does an absolute path start with your operating system?  \n",
    "Sol_2:- It starts with C:\\ as shown below example:"
   ]
  },
  {
   "cell_type": "code",
   "execution_count": 1,
   "id": "cbc15e54",
   "metadata": {},
   "outputs": [
    {
     "data": {
      "text/plain": [
       "'C:\\\\Users\\\\LENOVO\\\\Assignment_18.docx'"
      ]
     },
     "execution_count": 1,
     "metadata": {},
     "output_type": "execute_result"
    }
   ],
   "source": [
    "import os\n",
    "os.path.abspath(r\"Assignment_18.docx\")"
   ]
  },
  {
   "cell_type": "markdown",
   "id": "c5b072ea",
   "metadata": {},
   "source": [
    "Q_(3):- What do the functions os.getcwd() and os.chdir() do?  \n",
    "Sol_3:- os.getcwd() - This function returns location of current working directory. \n",
    "        os.chdir() - This function change the current working directory to specified path. This specified path  is an argument of of this function."
   ]
  },
  {
   "cell_type": "markdown",
   "id": "6e9a9a56",
   "metadata": {},
   "source": [
    "Q_(4):- What are the . and .. folders?  \n",
    "Sol_4:- (.) - It represent the current folder itself.  \n",
    "(..) - It represent the parent folder."
   ]
  },
  {
   "cell_type": "markdown",
   "id": "9303b5cd",
   "metadata": {},
   "source": [
    "Q_(5):- In C:\\bacon\\eggs\\spam.txt, which part is the dir name, and which part is the base name?   \n",
    "Sol_5:- In given path C:\\bacon\\eggs\\spam.txt  \n",
    "\n",
    "The dir name - C:\\bacon\\eggs\n",
    "\n",
    "the base name - spam.txt."
   ]
  },
  {
   "cell_type": "markdown",
   "id": "97e59bda",
   "metadata": {},
   "source": [
    "Q_(6):- What are the three “mode” arguments that can be passed to the open() function?  \n",
    "Sol_6:- The three modes which can be passed as an argument to the open() function are:-  \n",
    "'r' = read mode  \n",
    "'w' = write mode  \n",
    "'a' = append mode"
   ]
  },
  {
   "cell_type": "markdown",
   "id": "2596bc12",
   "metadata": {},
   "source": [
    "Q_(7):- What happens if an existing file is opened in write mode?  \n",
    "Sol_7:- If an existing file is opened in write mode then the data inside the file could be erased and completely overwritten."
   ]
  },
  {
   "cell_type": "markdown",
   "id": "62b98618",
   "metadata": {},
   "source": [
    "Q_(8):- How do you tell the difference between read() and readlines()?  \n",
    "Sol_8:- read() - This method returns the whole content of the file as a single string value.   \n",
    "readlines() - This method returns a list of strings, where each string is a line from the content of the file. "
   ]
  },
  {
   "cell_type": "markdown",
   "id": "68063138",
   "metadata": {},
   "source": [
    "Q_(9):- What data structure does a shelf value resemble?  \n",
    "Sol_9:- The shelf value resemble the same data structure as a dictionary value. It has same keys and values which does same work as dictonary do."
   ]
  }
 ],
 "metadata": {
  "kernelspec": {
   "display_name": "Python 3",
   "language": "python",
   "name": "python3"
  },
  "language_info": {
   "codemirror_mode": {
    "name": "ipython",
    "version": 3
   },
   "file_extension": ".py",
   "mimetype": "text/x-python",
   "name": "python",
   "nbconvert_exporter": "python",
   "pygments_lexer": "ipython3",
   "version": "3.8.8"
  }
 },
 "nbformat": 4,
 "nbformat_minor": 5
}
