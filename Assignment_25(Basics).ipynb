{
 "cells": [
  {
   "cell_type": "markdown",
   "id": "58524eac",
   "metadata": {},
   "source": [
    "Q_(1):- What is the difference between enclosing a list comprehension in square brackets and parentheses?   \n",
    "\n",
    "Sol_1:- The list comprehension is enclosed in square brackets [] but if we enclosed it in plain parentheses () it becomes generator comprehension.  \n",
    "For example:-\n",
    "\n",
    "l = [n*5 for n in range(100)] # List comprehension\n",
    "             \n",
    "             \n",
    "g = (n*5 for n in range(100))  # Generator comprehension"
   ]
  },
  {
   "cell_type": "markdown",
   "id": "80e89a10",
   "metadata": {},
   "source": [
    "Q_(2):- What is the relationship between generators and iterators?   \n",
    "\n",
    "Sol_2:- Iterator is a object it has only ine work to give the next element in the iterable(elements inside the collection).\n",
    "Generator is used to create iterator which can traverse and return data one element at a time. So, generator is the way to create an iterator object."
   ]
  },
  {
   "cell_type": "markdown",
   "id": "d72e95f2",
   "metadata": {},
   "source": [
    "Q_(3):- What are the signs that a function is a generator function?\n",
    "\n",
    "Sol_3:-   \n",
    "If a function contains atleast one yield statement, then that function becomes generator function.\n",
    "\n",
    "Whenever we called a function, if it returns an object(iterator) i.e. generator object which produces items only on demand. The next() function is use to iterate through the items."
   ]
  },
  {
   "cell_type": "markdown",
   "id": "7090bbb3",
   "metadata": {},
   "source": [
    "Q_(4):- What is the purpose of a yield statement?   \n",
    "\n",
    "Sol_4:- The purpose of yield statement is to return the elements from a generator function into a generator object. By remembering what produce in last execution, what is the logic and where to stop its execution of the function."
   ]
  },
  {
   "cell_type": "markdown",
   "id": "13e32bff",
   "metadata": {},
   "source": [
    "Q_(5):- What is the relationship between map calls and list comprehensions? Make a comparison and contrast between the two.  \n",
    "\n",
    "Sol_5:-List comprehension is more concise and easier to read as compared to map function.\n",
    "\n",
    "List comprehension allows filtering but in map() function, we have no such facility.   \n",
    "For example, to print all even numbers in range of 100, we can write [n for n in range(100) if n%2 == 0]. There is no alternate for it in map\n",
    "\n",
    "List comprehension are used when a list of results is required as map only returns a map object and does not return any list.\n",
    "\n",
    "List comprehension is faster than map when we need to evaluate expressions that are too long or complicated to express\n",
    "Map is faster in case of calling an already defined function (as no lambda is required)."
   ]
  }
 ],
 "metadata": {
  "kernelspec": {
   "display_name": "Python 3",
   "language": "python",
   "name": "python3"
  },
  "language_info": {
   "codemirror_mode": {
    "name": "ipython",
    "version": 3
   },
   "file_extension": ".py",
   "mimetype": "text/x-python",
   "name": "python",
   "nbconvert_exporter": "python",
   "pygments_lexer": "ipython3",
   "version": "3.8.8"
  }
 },
 "nbformat": 4,
 "nbformat_minor": 5
}
