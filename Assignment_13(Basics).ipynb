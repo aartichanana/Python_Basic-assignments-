{
 "cells": [
  {
   "cell_type": "markdown",
   "id": "ca534786",
   "metadata": {},
   "source": [
    "Q_(1):- What advantages do Excel spreadsheets have over CSV spreadsheets?   \n",
    "Sol_1:-Advantages of Excel spreadsheet over csv spreadsheet are:-    \n",
    "a) Excel spreadsheet cells have different fonts, sizes and color settings  \n",
    "b) It has feature to merged adjacent cells.   \n",
    "c) It also has a feature to insert images and charts.   \n",
    "d) It has multiple worksheet."
   ]
  },
  {
   "cell_type": "markdown",
   "id": "6a83f183",
   "metadata": {},
   "source": [
    "Q_(2):- What do you pass to csv.reader() and csv.writer() to create reader and writer objects?   \n",
    "Sol_2:- The file object pass to csv.reader() and csv.writer() to create reader and writer objects."
   ]
  },
  {
   "cell_type": "markdown",
   "id": "b8cb77d8",
   "metadata": {},
   "source": [
    "Q_(3):- What modes do File objects for reader and writer objects need to be opened in?    \n",
    "Sol_3:- For reader objects, file object opened in 'rb' mode and for writer objects, file object opened in 'wb' mode."
   ]
  },
  {
   "cell_type": "markdown",
   "id": "258fc9ad",
   "metadata": {},
   "source": [
    "Q_(4):- What method takes a list argument and writes it to a CSV file?    \n",
    "Sol_4:- writerow() method takes a list argument and writes it to a CSV file."
   ]
  },
  {
   "cell_type": "markdown",
   "id": "90ee850f",
   "metadata": {},
   "source": [
    "Q_(5):- What do the keyword arguments delimiter and line terminator do?   \n",
    "Sol_5:- The argument delimiter changes the string which is used to separate cells into a row.   \n",
    "The argument lineterminator changes the string which is used to separate the rows."
   ]
  },
  {
   "cell_type": "markdown",
   "id": "4707e9e7",
   "metadata": {},
   "source": [
    "Q_(6):- What function takes a string of JSON data and returns a Python data structure?   \n",
    "Sol_6:- json.loads()"
   ]
  },
  {
   "cell_type": "markdown",
   "id": "92e4bb5b",
   "metadata": {},
   "source": [
    "Q_(7):- What function takes a Python data structure and returns a string of JSON data?   \n",
    "Sol_7:- json.dumps()"
   ]
  }
 ],
 "metadata": {
  "kernelspec": {
   "display_name": "Python 3",
   "language": "python",
   "name": "python3"
  },
  "language_info": {
   "codemirror_mode": {
    "name": "ipython",
    "version": 3
   },
   "file_extension": ".py",
   "mimetype": "text/x-python",
   "name": "python",
   "nbconvert_exporter": "python",
   "pygments_lexer": "ipython3",
   "version": "3.8.8"
  }
 },
 "nbformat": 4,
 "nbformat_minor": 5
}
