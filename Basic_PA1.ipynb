{
 "cells": [
  {
   "cell_type": "markdown",
   "id": "c07a1ccd",
   "metadata": {},
   "source": [
    "Q_(1):- Write a Python program to print \"Hello Python\"?\n",
    "\n",
    "Sol_1:- "
   ]
  },
  {
   "cell_type": "code",
   "execution_count": 1,
   "id": "6c4df6a7",
   "metadata": {},
   "outputs": [
    {
     "name": "stdout",
     "output_type": "stream",
     "text": [
      "Hello Python\n"
     ]
    }
   ],
   "source": [
    "print(\"Hello Python\")"
   ]
  },
  {
   "cell_type": "markdown",
   "id": "04d3a04a",
   "metadata": {},
   "source": [
    "Q_(2):- Write a Python program to do arithmetical operations addition and division.?\n",
    "\n",
    "Sol_2:-"
   ]
  },
  {
   "cell_type": "code",
   "execution_count": 7,
   "id": "301fe659",
   "metadata": {},
   "outputs": [
    {
     "name": "stdout",
     "output_type": "stream",
     "text": [
      "Enter first number: 24\n",
      "Enter second number: 2\n",
      "Addition of 24 and 2 is: 26\n",
      "Addition of 24 and 2 is: 12.0\n"
     ]
    }
   ],
   "source": [
    "# Inputs taken by user\n",
    "a = int(input(\"Enter first number: \"))\n",
    "b = int(input(\"Enter second number: \"))\n",
    "\n",
    "#Add operation\n",
    "print(\"Addition of {0} and {1} is: {2}\".format (a,b,a+b))\n",
    "\n",
    "#Divide operation\n",
    "print(\"Addition of {0} and {1} is: {2}\".format (a,b,a/b))"
   ]
  },
  {
   "cell_type": "markdown",
   "id": "b1fa6998",
   "metadata": {},
   "source": [
    "Q_(3):- Write a Python program to find the area of a triangle?\n",
    "\n",
    "Sol_3:-"
   ]
  },
  {
   "cell_type": "code",
   "execution_count": 3,
   "id": "daf8e921",
   "metadata": {},
   "outputs": [
    {
     "name": "stdout",
     "output_type": "stream",
     "text": [
      "Enter triangle base value: 6\n",
      "Enter triangle height value: 7\n",
      "Area of the triangle will be: 21.0\n"
     ]
    }
   ],
   "source": [
    "#Taking base and height as input\n",
    "b = int(input(\"Enter triangle base value: \"))\n",
    "h = int(input(\"Enter triangle height value: \"))\n",
    "\n",
    "#Calculate area of triangle\n",
    "area = 0.5*b*h\n",
    "\n",
    "print(\"Area of the triangle will be: {}\".format(area))"
   ]
  },
  {
   "cell_type": "markdown",
   "id": "dfbddeac",
   "metadata": {},
   "source": [
    "Q_(4):- Write a Python program to swap two variables?"
   ]
  },
  {
   "cell_type": "code",
   "execution_count": 7,
   "id": "e452aa32",
   "metadata": {},
   "outputs": [
    {
     "name": "stdout",
     "output_type": "stream",
     "text": [
      "Enter value of a: 4\n",
      "Enter value of b: 7\n",
      "Before swapping a is 4 and b is 7\n",
      "After swapping a is 7 and b is 4\n"
     ]
    }
   ],
   "source": [
    "a = input(\"Enter value of a: \")\n",
    "b = input(\"Enter value of b: \")\n",
    "print(\"Before swapping a is {0} and b is {1}\".format(a,b))\n",
    "\n",
    "#swapping a and b value using temp variable\n",
    "temp = b\n",
    "b = a\n",
    "a = temp\n",
    "print(\"After swapping a is {0} and b is {1}\".format(a,b))"
   ]
  },
  {
   "cell_type": "markdown",
   "id": "bb85749c",
   "metadata": {},
   "source": [
    "Q_(5):- Write a Python program to generate a random number?"
   ]
  },
  {
   "cell_type": "code",
   "execution_count": 3,
   "id": "281a29c3",
   "metadata": {},
   "outputs": [
    {
     "name": "stdout",
     "output_type": "stream",
     "text": [
      "41\n"
     ]
    }
   ],
   "source": [
    "#importing the random module\n",
    "import random\n",
    "\n",
    "print(random.randint(0,50))"
   ]
  }
 ],
 "metadata": {
  "kernelspec": {
   "display_name": "Python 3 (ipykernel)",
   "language": "python",
   "name": "python3"
  },
  "language_info": {
   "codemirror_mode": {
    "name": "ipython",
    "version": 3
   },
   "file_extension": ".py",
   "mimetype": "text/x-python",
   "name": "python",
   "nbconvert_exporter": "python",
   "pygments_lexer": "ipython3",
   "version": "3.9.7"
  }
 },
 "nbformat": 4,
 "nbformat_minor": 5
}
