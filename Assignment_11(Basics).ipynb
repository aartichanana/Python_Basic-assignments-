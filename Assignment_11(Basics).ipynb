{
 "cells": [
  {
   "cell_type": "markdown",
   "id": "e4daeb9c",
   "metadata": {},
   "source": [
    "Q_(1):- Create an assert statement that throws an AssertionError if the variable spam is a negative integer.   \n",
    "Sol_1:- "
   ]
  },
  {
   "cell_type": "code",
   "execution_count": 1,
   "id": "ffd1cebd",
   "metadata": {},
   "outputs": [
    {
     "ename": "AssertionError",
     "evalue": "",
     "output_type": "error",
     "traceback": [
      "\u001b[1;31m---------------------------------------------------------------------------\u001b[0m",
      "\u001b[1;31mAssertionError\u001b[0m                            Traceback (most recent call last)",
      "\u001b[1;32m<ipython-input-1-55d8b6586270>\u001b[0m in \u001b[0;36m<module>\u001b[1;34m\u001b[0m\n\u001b[0;32m      1\u001b[0m \u001b[0mspam\u001b[0m \u001b[1;33m=\u001b[0m \u001b[1;33m-\u001b[0m\u001b[1;36m1\u001b[0m\u001b[1;33m\u001b[0m\u001b[1;33m\u001b[0m\u001b[0m\n\u001b[1;32m----> 2\u001b[1;33m \u001b[1;32massert\u001b[0m \u001b[0mspam\u001b[0m\u001b[1;33m>=\u001b[0m\u001b[1;36m0\u001b[0m\u001b[1;33m\u001b[0m\u001b[1;33m\u001b[0m\u001b[0m\n\u001b[0m",
      "\u001b[1;31mAssertionError\u001b[0m: "
     ]
    }
   ],
   "source": [
    "spam = -1\n",
    "assert spam>=0"
   ]
  },
  {
   "cell_type": "markdown",
   "id": "a038db15",
   "metadata": {},
   "source": [
    "Q_(2):- Write an assert statement that triggers an AssertionError if the variables eggs and bacon contain strings that are the same as each other, even if their cases are different (that is, 'hello' and 'hello' are considered the same, and 'goodbye' and 'GOODbye' are also considered the same).   \n",
    "Sol_2:-"
   ]
  },
  {
   "cell_type": "code",
   "execution_count": 3,
   "id": "db48b5a4",
   "metadata": {},
   "outputs": [
    {
     "ename": "AssertionError",
     "evalue": "",
     "output_type": "error",
     "traceback": [
      "\u001b[1;31m---------------------------------------------------------------------------\u001b[0m",
      "\u001b[1;31mAssertionError\u001b[0m                            Traceback (most recent call last)",
      "\u001b[1;32m<ipython-input-3-423fa651f80d>\u001b[0m in \u001b[0;36m<module>\u001b[1;34m\u001b[0m\n\u001b[0;32m      1\u001b[0m \u001b[0meggs\u001b[0m \u001b[1;33m=\u001b[0m \u001b[1;34m'hello'\u001b[0m\u001b[1;33m\u001b[0m\u001b[1;33m\u001b[0m\u001b[0m\n\u001b[0;32m      2\u001b[0m \u001b[0mbacon\u001b[0m \u001b[1;33m=\u001b[0m \u001b[1;34m'Hello'\u001b[0m\u001b[1;33m\u001b[0m\u001b[1;33m\u001b[0m\u001b[0m\n\u001b[1;32m----> 3\u001b[1;33m \u001b[1;32massert\u001b[0m \u001b[0meggs\u001b[0m\u001b[1;33m.\u001b[0m\u001b[0mlower\u001b[0m\u001b[1;33m(\u001b[0m\u001b[1;33m)\u001b[0m\u001b[1;33m!=\u001b[0m \u001b[0mbacon\u001b[0m\u001b[1;33m.\u001b[0m\u001b[0mlower\u001b[0m\u001b[1;33m(\u001b[0m\u001b[1;33m)\u001b[0m\u001b[1;33m\u001b[0m\u001b[1;33m\u001b[0m\u001b[0m\n\u001b[0m",
      "\u001b[1;31mAssertionError\u001b[0m: "
     ]
    }
   ],
   "source": [
    "eggs = 'hello'\n",
    "bacon = 'hello'\n",
    "assert eggs.lower()!= bacon.lower() "
   ]
  },
  {
   "cell_type": "code",
   "execution_count": 4,
   "id": "0cad6777",
   "metadata": {},
   "outputs": [
    {
     "ename": "AssertionError",
     "evalue": "",
     "output_type": "error",
     "traceback": [
      "\u001b[1;31m---------------------------------------------------------------------------\u001b[0m",
      "\u001b[1;31mAssertionError\u001b[0m                            Traceback (most recent call last)",
      "\u001b[1;32m<ipython-input-4-a4fddb6e25ed>\u001b[0m in \u001b[0;36m<module>\u001b[1;34m\u001b[0m\n\u001b[0;32m      1\u001b[0m \u001b[0meggs\u001b[0m \u001b[1;33m=\u001b[0m \u001b[1;34m'goodbye'\u001b[0m\u001b[1;33m\u001b[0m\u001b[1;33m\u001b[0m\u001b[0m\n\u001b[0;32m      2\u001b[0m \u001b[0mbacon\u001b[0m \u001b[1;33m=\u001b[0m \u001b[1;34m'GOODbye'\u001b[0m\u001b[1;33m\u001b[0m\u001b[1;33m\u001b[0m\u001b[0m\n\u001b[1;32m----> 3\u001b[1;33m \u001b[1;32massert\u001b[0m \u001b[0meggs\u001b[0m\u001b[1;33m.\u001b[0m\u001b[0mlower\u001b[0m\u001b[1;33m(\u001b[0m\u001b[1;33m)\u001b[0m\u001b[1;33m!=\u001b[0m \u001b[0mbacon\u001b[0m\u001b[1;33m.\u001b[0m\u001b[0mlower\u001b[0m\u001b[1;33m(\u001b[0m\u001b[1;33m)\u001b[0m\u001b[1;33m\u001b[0m\u001b[1;33m\u001b[0m\u001b[0m\n\u001b[0m",
      "\u001b[1;31mAssertionError\u001b[0m: "
     ]
    }
   ],
   "source": [
    "eggs = 'goodbye'\n",
    "bacon = 'GOODbye'\n",
    "assert eggs.lower()!= bacon.lower()"
   ]
  },
  {
   "cell_type": "markdown",
   "id": "6389cdee",
   "metadata": {},
   "source": [
    "Q_(3):- Create an assert statement that throws an AssertionError every time.   \n",
    "Sol_3:- assert False statement always throws an error because whenever assert contain false statement it throws an error same i used False itself wrong statement contained by assert then it always throws an error."
   ]
  },
  {
   "cell_type": "code",
   "execution_count": 5,
   "id": "59cf356e",
   "metadata": {},
   "outputs": [
    {
     "ename": "AssertionError",
     "evalue": "",
     "output_type": "error",
     "traceback": [
      "\u001b[1;31m---------------------------------------------------------------------------\u001b[0m",
      "\u001b[1;31mAssertionError\u001b[0m                            Traceback (most recent call last)",
      "\u001b[1;32m<ipython-input-5-a871fdc9ebee>\u001b[0m in \u001b[0;36m<module>\u001b[1;34m\u001b[0m\n\u001b[1;32m----> 1\u001b[1;33m \u001b[1;32massert\u001b[0m \u001b[1;32mFalse\u001b[0m\u001b[1;33m\u001b[0m\u001b[1;33m\u001b[0m\u001b[0m\n\u001b[0m",
      "\u001b[1;31mAssertionError\u001b[0m: "
     ]
    }
   ],
   "source": [
    "assert False"
   ]
  },
  {
   "cell_type": "markdown",
   "id": "cf7e572d",
   "metadata": {},
   "source": [
    "Q_(4):- What are the two lines that must be present in your software in order to call logging.debug()?   \n",
    "Sol_4:-   \n",
    "import logging  \n",
    "logging.basicConfig(filename, level, format)"
   ]
  },
  {
   "cell_type": "markdown",
   "id": "0e46f6ea",
   "metadata": {},
   "source": [
    "Q_(5):- What are the two lines that your program must have in order to have logging.debug() send a logging message to a file named programLog.txt?    \n",
    "Sol_5:-  \n",
    "import logging   \n",
    "logging.basicConfig(filename = 'programLog.txt', level = logging.DEBUG, format = %(asctime)s %(levelname)s %(message)s)"
   ]
  },
  {
   "cell_type": "markdown",
   "id": "e54c2ca6",
   "metadata": {},
   "source": [
    "Q_(6):- What are the five levels of logging?   \n",
    "Sol_6:- Five levels of logging are:    \n",
    "INFO  \n",
    "DEBUG   \n",
    "WARNING  \n",
    "ERROR  \n",
    "CRITICAL"
   ]
  },
  {
   "cell_type": "markdown",
   "id": "7402c773",
   "metadata": {},
   "source": [
    "Q_(7):- What line of code would you add to your software to disable all logging messages?   \n",
    "Sol_7:- logging.disable(logging.CRITICAL)"
   ]
  },
  {
   "cell_type": "markdown",
   "id": "d03eed24",
   "metadata": {},
   "source": [
    "Q_(8):- Why is using logging messages better than using print() to display the same message?   \n",
    "Sol_8:- a) Unlike print() function, the logging module makes it easy to switch between showing and hiding log messages.\n",
    " \n",
    "b) The benefit of logging levels is that we can change what priority of logging message we want to see. we can disable logging message without removing the logging function calls."
   ]
  },
  {
   "cell_type": "markdown",
   "id": "7c36112c",
   "metadata": {},
   "source": [
    "Q_(9):- What are the differences between the Step Over, Step In, and Step Out buttons in the debugger?        \n",
    "Sol_9:- Step Over = It will quickly execute the function call without stepping into it.   \n",
    "Step In =  it will make the debugger into a function call.     \n",
    "Step out = It will quickly execute the rest of the code until it step ouut of the function it current is in."
   ]
  },
  {
   "cell_type": "markdown",
   "id": "c896261d",
   "metadata": {},
   "source": [
    "Q_(10):- After you click Continue, when will the debugger stop ?   \n",
    "Sol_10:- The debugger will stop when it has reached the end of the program or a line with a breakpoint."
   ]
  },
  {
   "cell_type": "markdown",
   "id": "886c1362",
   "metadata": {},
   "source": [
    "Q_(11):- What is the concept of a breakpoint?  \n",
    "Sol_11:- A breakpoint is a setting on a time of code that causes the debugger to pause when the program execution reaches the line."
   ]
  }
 ],
 "metadata": {
  "kernelspec": {
   "display_name": "Python 3",
   "language": "python",
   "name": "python3"
  },
  "language_info": {
   "codemirror_mode": {
    "name": "ipython",
    "version": 3
   },
   "file_extension": ".py",
   "mimetype": "text/x-python",
   "name": "python",
   "nbconvert_exporter": "python",
   "pygments_lexer": "ipython3",
   "version": "3.8.8"
  }
 },
 "nbformat": 4,
 "nbformat_minor": 5
}
