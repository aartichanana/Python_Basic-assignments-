{
 "cells": [
  {
   "cell_type": "markdown",
   "id": "1538a39c",
   "metadata": {},
   "source": [
    "Q_(1):- How do you distinguish between shutil.copy() and shutil.copytree()?   \n",
    "Sol_1:- A single file will copy by shutil.copy() function  but the entire folder alongwith its all content will copy by shutil.copytree() function. "
   ]
  },
  {
   "cell_type": "markdown",
   "id": "3afaff8b",
   "metadata": {},
   "source": [
    "Q_(2):- What function is used to rename files??  \n",
    "Sol_2:- The shutil.move() function used to move as well as rename the files."
   ]
  },
  {
   "cell_type": "markdown",
   "id": "949c795d",
   "metadata": {},
   "source": [
    "Q_(3):- What is the difference between the delete functions in the send2trash and shutil modules?  \n",
    "Sol_3:- The shutil module delete the file or folder permanently but the send2trash will move the file or folder to the recyclebin not deleted that permanently."
   ]
  },
  {
   "cell_type": "markdown",
   "id": "cf7ba922",
   "metadata": {},
   "source": [
    "Q_(4):- ZipFile objects have a close() method just like File objects’ close() method. What ZipFile method is equivalent to File objects’ open() method?  \n",
    "Sol_4:- Yes, open() function is equivalent to the zipfile.ZipFile()."
   ]
  },
  {
   "cell_type": "markdown",
   "id": "c70dceeb",
   "metadata": {},
   "source": [
    "Q_(5):- Create a programme that searches a folder tree for files with a certain file extension (such as .pdf or .jpg). Copy these files from whatever location they are in to a new folder.   \n",
    "Sol_5:-"
   ]
  },
  {
   "cell_type": "code",
   "execution_count": 1,
   "id": "edbc0e6c",
   "metadata": {},
   "outputs": [
    {
     "name": "stdout",
     "output_type": "stream",
     "text": [
      "Looking in C:\\Users\\LENOVO\\Ai & ML for files with extensions of .pdf, .jpg\n",
      "Coping C:\\Users\\LENOVO\\Ai & ML\\Dssheet.jpg to C:\\Users\\LENOVO\\New_folder\n"
     ]
    }
   ],
   "source": [
    "# 1) Walks through a folder tree \n",
    "# 2) searches for files with a certain file extension (such as .pdf or .jpg).\n",
    "# 3) Copy files from whatever location they are in to a New_folder\n",
    "\n",
    "import os, shutil\n",
    "\n",
    "def copy_file(folder, extensions, destFolder):\n",
    "    folder = os.path.abspath(folder)\n",
    "    destFolder = os.path.abspath(destFolder)\n",
    "    print('Looking in', folder, 'for files with extensions of', ', '.join(extensions))\n",
    "    for foldername, subfolders, filenames in os.walk(folder):\n",
    "        for filename in filenames:\n",
    "            name, extension = os.path.splitext(filename)\n",
    "            if extension in extensions:\n",
    "                fileAbsPath = foldername + os.path.sep + filename\n",
    "                print('Coping', fileAbsPath, 'to', destFolder)\n",
    "                shutil.copy(fileAbsPath, destFolder)\n",
    "                    \n",
    "\n",
    "extensions = ['.pdf', '.jpg']\n",
    "folder = 'Ai & ML'\n",
    "destFolder = 'New_folder'\n",
    "copy_file(folder, extensions, destFolder)"
   ]
  }
 ],
 "metadata": {
  "kernelspec": {
   "display_name": "Python 3",
   "language": "python",
   "name": "python3"
  },
  "language_info": {
   "codemirror_mode": {
    "name": "ipython",
    "version": 3
   },
   "file_extension": ".py",
   "mimetype": "text/x-python",
   "name": "python",
   "nbconvert_exporter": "python",
   "pygments_lexer": "ipython3",
   "version": "3.8.8"
  }
 },
 "nbformat": 4,
 "nbformat_minor": 5
}
