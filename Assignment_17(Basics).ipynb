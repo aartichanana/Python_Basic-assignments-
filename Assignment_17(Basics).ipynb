{
 "cells": [
  {
   "cell_type": "markdown",
   "id": "f848c844",
   "metadata": {},
   "source": [
    "Q_(1):- Assign the value 7 to the variable guess_me. Then, write the conditional tests (if, else, and elif) to print the string 'too low' if guess_me is less than 7, 'too high' if greater than 7, and 'just right' if equal to 7.   \n",
    "\n",
    "Sol_1:-\n"
   ]
  },
  {
   "cell_type": "code",
   "execution_count": 1,
   "id": "67b3884b",
   "metadata": {},
   "outputs": [
    {
     "name": "stdout",
     "output_type": "stream",
     "text": [
      "just right\n"
     ]
    }
   ],
   "source": [
    "guess_me = 7\n",
    "\n",
    "if guess_me<7:\n",
    "    print(\"too low\")\n",
    "    \n",
    "elif guess_me==7:\n",
    "    print(\"just right\")\n",
    "    \n",
    "else:\n",
    "    print(\"too high\")"
   ]
  },
  {
   "cell_type": "markdown",
   "id": "f96f83f4",
   "metadata": {},
   "source": [
    "Q_(2):- Assign the value 7 to the variable guess_me and the value 1 to the variable start. Write a while loop that compares start with guess_me. Print too low if start is less than guess me. If start equals guess_me, print 'found it!' and exit the loop. If start is greater than guess_me, print 'oops' and exit the loop. Increment start at the end of the loop.  \n",
    "\n",
    "Sol_2:-"
   ]
  },
  {
   "cell_type": "code",
   "execution_count": 2,
   "id": "44faaf27",
   "metadata": {},
   "outputs": [
    {
     "name": "stdout",
     "output_type": "stream",
     "text": [
      "too low\n",
      "too low\n",
      "too low\n",
      "too low\n",
      "too low\n",
      "too low\n",
      "found it!\n"
     ]
    }
   ],
   "source": [
    "guess_me = 7\n",
    "start = 1\n",
    "\n",
    "while (True):\n",
    "    if start<guess_me:\n",
    "        print(\"too low\")\n",
    "        \n",
    "    elif start==guess_me:\n",
    "        print(\"found it!\")\n",
    "        break\n",
    "        \n",
    "    else:\n",
    "        print(\"oops\")\n",
    "        break\n",
    "        \n",
    "    start+=1\n",
    "    "
   ]
  },
  {
   "cell_type": "markdown",
   "id": "f6439979",
   "metadata": {},
   "source": [
    "Q_(3):- Print the following values of the list [3, 2, 1, 0] using a for loop.   \n",
    "\n",
    "Sol_3:-"
   ]
  },
  {
   "cell_type": "code",
   "execution_count": 3,
   "id": "cafdfb6a",
   "metadata": {},
   "outputs": [
    {
     "name": "stdout",
     "output_type": "stream",
     "text": [
      "[3, 2, 1, 0]\n"
     ]
    }
   ],
   "source": [
    "l = []\n",
    "for i in range(3,-1,-1):\n",
    "    l.append(i)\n",
    "print(l)"
   ]
  },
  {
   "cell_type": "markdown",
   "id": "3e7ce8b6",
   "metadata": {},
   "source": [
    "Q_(4):- Use a list comprehension to make a list of the even numbers in range(10)?  \n",
    "\n",
    "Sol_4:-"
   ]
  },
  {
   "cell_type": "code",
   "execution_count": 4,
   "id": "85b2900e",
   "metadata": {},
   "outputs": [],
   "source": [
    "s = list(i  for i in range(10) if i%2==0)"
   ]
  },
  {
   "cell_type": "code",
   "execution_count": 5,
   "id": "edbb37fe",
   "metadata": {},
   "outputs": [
    {
     "name": "stdout",
     "output_type": "stream",
     "text": [
      "[0, 2, 4, 6, 8]\n"
     ]
    }
   ],
   "source": [
    "print(s)"
   ]
  },
  {
   "cell_type": "markdown",
   "id": "1a1504b1",
   "metadata": {},
   "source": [
    "Q_(5):- Use a dictionary comprehension to create the dictionary squares. Use range(10) to return the keys, and use the square of each key as its value.   \n",
    "\n",
    "Sol_5:-"
   ]
  },
  {
   "cell_type": "code",
   "execution_count": 8,
   "id": "85ca85c7",
   "metadata": {},
   "outputs": [],
   "source": [
    "squares = {i:i**2 for i in range(10)}"
   ]
  },
  {
   "cell_type": "code",
   "execution_count": 9,
   "id": "ffa3736f",
   "metadata": {},
   "outputs": [
    {
     "data": {
      "text/plain": [
       "{0: 0, 1: 1, 2: 4, 3: 9, 4: 16, 5: 25, 6: 36, 7: 49, 8: 64, 9: 81}"
      ]
     },
     "execution_count": 9,
     "metadata": {},
     "output_type": "execute_result"
    }
   ],
   "source": [
    "squares"
   ]
  },
  {
   "cell_type": "markdown",
   "id": "adbed646",
   "metadata": {},
   "source": [
    "Q_(6):- Construct the set odd from the odd numbers in the range using a set comprehension (10.   \n",
    "\n",
    "Sol_6:-"
   ]
  },
  {
   "cell_type": "code",
   "execution_count": 10,
   "id": "a3202a8e",
   "metadata": {},
   "outputs": [
    {
     "name": "stdout",
     "output_type": "stream",
     "text": [
      "{1, 3, 5, 7, 9}\n"
     ]
    }
   ],
   "source": [
    "x = set(i  for i in range(10) if i%2!=0)\n",
    "print(x)"
   ]
  },
  {
   "cell_type": "markdown",
   "id": "88931d0d",
   "metadata": {},
   "source": [
    "Q_(7):- Use a generator comprehension to return the string 'Got ' and a number for the numbers in range(10). Iterate through this by using a for loop. \n",
    "\n",
    "Sol_7:-"
   ]
  },
  {
   "cell_type": "code",
   "execution_count": 11,
   "id": "73161c9f",
   "metadata": {},
   "outputs": [],
   "source": [
    "gt = ('Got' + str(num) for num in range(10))"
   ]
  },
  {
   "cell_type": "code",
   "execution_count": 12,
   "id": "93902e7a",
   "metadata": {},
   "outputs": [
    {
     "name": "stdout",
     "output_type": "stream",
     "text": [
      "Got0\n",
      "Got1\n",
      "Got2\n",
      "Got3\n",
      "Got4\n",
      "Got5\n",
      "Got6\n",
      "Got7\n",
      "Got8\n",
      "Got9\n"
     ]
    }
   ],
   "source": [
    "for i in gt:\n",
    "    print(i)"
   ]
  },
  {
   "cell_type": "markdown",
   "id": "6f2f9179",
   "metadata": {},
   "source": [
    "Q_(8):- Define a function called good that returns the list ['Harry', 'Ron', 'Hermione']. \n",
    "\n",
    "Sol_8:-"
   ]
  },
  {
   "cell_type": "code",
   "execution_count": 13,
   "id": "3e3e2745",
   "metadata": {},
   "outputs": [
    {
     "data": {
      "text/plain": [
       "['Harry', 'Ron', 'Hermione']"
      ]
     },
     "execution_count": 13,
     "metadata": {},
     "output_type": "execute_result"
    }
   ],
   "source": [
    "def good():\n",
    "    '''this function gives the list of name'''\n",
    "    \n",
    "    return ['Harry', 'Ron', 'Hermione']\n",
    "\n",
    "good()"
   ]
  },
  {
   "cell_type": "markdown",
   "id": "a5f5da7b",
   "metadata": {},
   "source": [
    "Q_(9):- Define a generator function called get_odds that returns the odd numbers from range(10). Use a for loop to find and print the third value returned.  \n",
    "\n",
    "Sol_9:-"
   ]
  },
  {
   "cell_type": "code",
   "execution_count": 14,
   "id": "4641fc0c",
   "metadata": {},
   "outputs": [
    {
     "name": "stdout",
     "output_type": "stream",
     "text": [
      "5\n"
     ]
    }
   ],
   "source": [
    "#generator comprehension to return odd numbers\n",
    "get_odds = (num for num in range(10) if  num % 2!= 0)\n",
    "\n",
    "# iterate third value\n",
    "count = 0\n",
    "for num in get_odds:\n",
    "    if count == 2:   # to get  third value \n",
    "        print(num)\n",
    "        break\n",
    "    count += 1"
   ]
  },
  {
   "cell_type": "markdown",
   "id": "865844c9",
   "metadata": {},
   "source": [
    "Q_(10):- Define an exception called OopsException. Raise this exception to see what happens. Then write the code to catch this exception and print 'Caught an oops'.  \n",
    "\n",
    "Sol_10:-"
   ]
  },
  {
   "cell_type": "code",
   "execution_count": 15,
   "id": "2fb65b2b",
   "metadata": {},
   "outputs": [
    {
     "name": "stdout",
     "output_type": "stream",
     "text": [
      "Caught an oops\n"
     ]
    }
   ],
   "source": [
    "#defining exception\n",
    "class OopsException(Exception):\n",
    "    pass\n",
    "\n",
    "\n",
    "#raising above exception\n",
    "def with_exception(a):\n",
    "    if a < 0:\n",
    "        raise OopsException(a)\n",
    "\n",
    "#try to catch above exception\n",
    "try:\n",
    "    with_exception(-1)\n",
    "except OopsException as err:\n",
    "    print('Caught an oops')"
   ]
  },
  {
   "cell_type": "markdown",
   "id": "cf70fa8b",
   "metadata": {},
   "source": [
    "Q_(11):- Use zip() to make a dictionary called movies that pairs these lists: titles = ['Creature of Habit', 'Crewel Fate'] and plots = ['A nun turns into a monster', 'A haunted yarn shop'].  \n",
    "\n",
    "Sol_11:-"
   ]
  },
  {
   "cell_type": "code",
   "execution_count": 16,
   "id": "b5cfad75",
   "metadata": {},
   "outputs": [
    {
     "name": "stdout",
     "output_type": "stream",
     "text": [
      "{'Creature of Habit': 'A nun turns into a monster', 'Crewel Fate': 'A haunted yarn shop'}\n"
     ]
    }
   ],
   "source": [
    "titles = ['Creature of Habit', 'Crewel Fate']\n",
    "plots = ['A nun turns into a monster', 'A haunted yarn shop']\n",
    "\n",
    "movies = {}\n",
    "for title, plot in zip(titles, plots):\n",
    "    movies[title] = plot\n",
    "\n",
    "print(movies)"
   ]
  }
 ],
 "metadata": {
  "kernelspec": {
   "display_name": "Python 3",
   "language": "python",
   "name": "python3"
  },
  "language_info": {
   "codemirror_mode": {
    "name": "ipython",
    "version": 3
   },
   "file_extension": ".py",
   "mimetype": "text/x-python",
   "name": "python",
   "nbconvert_exporter": "python",
   "pygments_lexer": "ipython3",
   "version": "3.8.8"
  }
 },
 "nbformat": 4,
 "nbformat_minor": 5
}
