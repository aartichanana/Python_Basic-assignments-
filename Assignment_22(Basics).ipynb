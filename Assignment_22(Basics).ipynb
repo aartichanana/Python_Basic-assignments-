{
 "cells": [
  {
   "cell_type": "markdown",
   "id": "fc1f69f2",
   "metadata": {},
   "source": [
    "Q_(1):- What is the result of the code, and explain?\n",
    "\n",
    ">>> X = 'iNeuron'\n",
    ">>> def func():\n",
    "print(X)\n",
    "\n",
    "\n",
    ">>> func()\n",
    "\n",
    "\n",
    "Sol_1:- In the given code, iNeuron is assign to X which is global variable. After calling of function func() control goes inside the function where it prints value of X which was assigned outside the function. It can print its global value inside the function() until the same variable is not assign inside the function. So that it gives iNeuron as output."
   ]
  },
  {
   "cell_type": "code",
   "execution_count": 1,
   "id": "eac6c339",
   "metadata": {},
   "outputs": [
    {
     "name": "stdout",
     "output_type": "stream",
     "text": [
      "iNeuron\n"
     ]
    }
   ],
   "source": [
    "X = 'iNeuron'\n",
    "def func():\n",
    "    print(X)\n",
    "    \n",
    "func()"
   ]
  },
  {
   "cell_type": "markdown",
   "id": "fe6eea02",
   "metadata": {},
   "source": [
    "Q_(2):- What is the result of the code, and explain?\n",
    "\n",
    ">>> X = 'iNeuron'\n",
    ">>> def func():\n",
    "X = 'NI!'\n",
    "\n",
    "\n",
    ">>> func()\n",
    ">>> print(X)\n",
    "\n",
    "Sol_2:- In the given code, iNeuron is assign to X which is global variable. After calling of function func() control goes inside the function where it reassign value 'NI!'to X which local variable. Now, control comes outside the function and print the value of X. It will print the value of that global variable X as 'iNeuron' as output because local variable can work only inside the function where its value is assigned."
   ]
  },
  {
   "cell_type": "code",
   "execution_count": 2,
   "id": "98cb744d",
   "metadata": {},
   "outputs": [
    {
     "name": "stdout",
     "output_type": "stream",
     "text": [
      "iNeuron\n"
     ]
    }
   ],
   "source": [
    "X = 'iNeuron'\n",
    "def func():\n",
    "    X = 'NI!'\n",
    "\n",
    "func()\n",
    "print(X)"
   ]
  },
  {
   "cell_type": "markdown",
   "id": "f419722e",
   "metadata": {},
   "source": [
    "Q_(3):- . What does this code print, and why?\n",
    "\n",
    ">>> X = 'iNeuron'\n",
    ">>> def func():\n",
    "X = 'NI'\n",
    "print(X)\n",
    "\n",
    "\n",
    ">>> func()\n",
    ">>> print(X)\n",
    "\n",
    "Sol_3:-  In above given code, iNeuron is assign to X which is global variable. After calling of function func() control goes inside the function where it reassign value 'NI!'to X which is local variable and print value of X as 'NI' because inside function it access the value of local variable which was reassigned. \n",
    "\n",
    "Now, control comes outside the function and print the value of X. It will print the value of that global variable X as 'iNeuron' as output because local variable can work only inside the function where its value is assigned.\n"
   ]
  },
  {
   "cell_type": "code",
   "execution_count": 3,
   "id": "ad2a90cf",
   "metadata": {},
   "outputs": [
    {
     "name": "stdout",
     "output_type": "stream",
     "text": [
      "NI\n",
      "iNeuron\n"
     ]
    }
   ],
   "source": [
    "X = 'iNeuron'\n",
    "def func():\n",
    "    X = 'NI'\n",
    "    print(X)\n",
    "\n",
    "func() \n",
    "print(X)"
   ]
  },
  {
   "cell_type": "markdown",
   "id": "590b9253",
   "metadata": {},
   "source": [
    "Q_(4):- What output does this code produce? Why?\n",
    "\n",
    ">>> X = 'iNeuron'\n",
    ">>> def func():\n",
    "global X\n",
    "X = 'NI'\n",
    "\n",
    "\n",
    ">>> func()\n",
    ">>> print(X)\n",
    "\n",
    "\n",
    "Sol_4:-  In above given code, 'iNeuron' is assign to X which is global variable. When we call the function func() control goes inside the function and here it declared X as global varible it means we can access this X inside and outside the function. Then it assigned that global variable X as 'NI' and comes outside the function. Now it print value of X which will be 'NI' because it declared as global varible."
   ]
  },
  {
   "cell_type": "code",
   "execution_count": 4,
   "id": "988fb769",
   "metadata": {},
   "outputs": [
    {
     "name": "stdout",
     "output_type": "stream",
     "text": [
      "NI\n"
     ]
    }
   ],
   "source": [
    "X = 'iNeuron'\n",
    "def func():\n",
    "    global X\n",
    "    X = 'NI'\n",
    "\n",
    "\n",
    "func()\n",
    "print(X)"
   ]
  },
  {
   "cell_type": "markdown",
   "id": "9b2f51ea",
   "metadata": {},
   "source": [
    "Q_(5):- What about this code—what’s the output, and why?.....? \n",
    ">>> X = 'iNeuron'\n",
    ">>> def func():\n",
    "X = 'NI'\n",
    "def nested():\n",
    "print(X)\n",
    "nested()\n",
    "\n",
    "\n",
    ">>> func()\n",
    ">>> X\n",
    "\n",
    "Sol_5:- In the above given code gives output as 'iNeuron' because after defining func()functions we call this function so the control goes inside the func() function. Inside it we assign local variable X and define nested() function but it terminate the func() function and control comes out of the func() function. The control could not get inside nested() function until we will not call it. \n",
    "\n",
    "So, now X printed its global value as 'iNeuron' after calling func() function. \n"
   ]
  },
  {
   "cell_type": "code",
   "execution_count": 5,
   "id": "2fe337c2",
   "metadata": {},
   "outputs": [
    {
     "data": {
      "text/plain": [
       "'iNeuron'"
      ]
     },
     "execution_count": 5,
     "metadata": {},
     "output_type": "execute_result"
    }
   ],
   "source": [
    "X= 'iNeuron'\n",
    "def func():\n",
    "    X = 'NI'\n",
    "    def nested():\n",
    "        print(X)\n",
    "        nested()\n",
    "\n",
    "\n",
    "func()\n",
    "X"
   ]
  },
  {
   "cell_type": "markdown",
   "id": "a42e88f9",
   "metadata": {},
   "source": [
    "Q_(6):- How about this code: what is its output in Python 3, and explain?.....?\n",
    "\n",
    ">>> def func():\n",
    "X = 'NI'\n",
    "def nested():\n",
    "nonlocal X\n",
    "X = 'Spam'\n",
    "nested()\n",
    "print(X)\n",
    "\n",
    "\n",
    ">>> func()\n",
    "\n",
    "Sol_6:- In the above given code, firstly it define func() function then we call it at the end of the code. After calling func() function control goes inside the func() function. Inside it X assign a value as local variable. Then it define nested() function inside the func() function but the control comes out of func() function. The control could not get inside the nested function untill we will not call it.\n",
    "\n",
    "So we did not get any output for the given code."
   ]
  },
  {
   "cell_type": "code",
   "execution_count": 6,
   "id": "f74ee986",
   "metadata": {},
   "outputs": [],
   "source": [
    "def func():\n",
    "    X = 'NI'\n",
    "    def nested():\n",
    "        nonlocal X\n",
    "        X = 'Spam'\n",
    "        nested()\n",
    "        print(X)\n",
    "\n",
    "\n",
    "func()"
   ]
  }
 ],
 "metadata": {
  "kernelspec": {
   "display_name": "Python 3",
   "language": "python",
   "name": "python3"
  },
  "language_info": {
   "codemirror_mode": {
    "name": "ipython",
    "version": 3
   },
   "file_extension": ".py",
   "mimetype": "text/x-python",
   "name": "python",
   "nbconvert_exporter": "python",
   "pygments_lexer": "ipython3",
   "version": "3.8.8"
  }
 },
 "nbformat": 4,
 "nbformat_minor": 5
}
