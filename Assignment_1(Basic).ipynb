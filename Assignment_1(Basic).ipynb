{
 "cells": [
  {
   "cell_type": "markdown",
   "id": "1f7f204a",
   "metadata": {},
   "source": [
    "Q_(1):- In the below elements which of them are values or an expression?  eg:- values can be integer or string and expressions  will be mathematical operators.\n",
    "*, 'hello', -87.8, -, /, +, 6 "
   ]
  },
  {
   "cell_type": "markdown",
   "id": "fe6bb575",
   "metadata": {},
   "source": [
    "Sol_1:- Values will be: 'hello', -87.8, 6                                                                                        \n",
    "Expressions will be: *, -, /, +\n"
   ]
  },
  {
   "cell_type": "markdown",
   "id": "7ea6fac3",
   "metadata": {},
   "source": [
    "Q_(2):- What is the difference between string and variable?"
   ]
  },
  {
   "cell_type": "markdown",
   "id": "b9603246",
   "metadata": {},
   "source": [
    "Sol_2:- (i)A variable is the name given to a memory location in a program. It is just like a container which can store any type           of data it may be integer, float, string, bool, complex etc.                                                                        \n",
    "A string is a data type in python. It is a sequence of characters enclosed in quotes. \n",
    "\n",
    "(ii)For example:-"
   ]
  },
  {
   "cell_type": "code",
   "execution_count": 1,
   "id": "ebc4b419",
   "metadata": {},
   "outputs": [
    {
     "data": {
      "text/plain": [
       "10"
      ]
     },
     "execution_count": 1,
     "metadata": {},
     "output_type": "execute_result"
    }
   ],
   "source": [
    "a = 10 #Here a is the variable name containing 10 integer type of data in its location.\n",
    "a"
   ]
  },
  {
   "cell_type": "code",
   "execution_count": 2,
   "id": "7bc6c213",
   "metadata": {},
   "outputs": [
    {
     "data": {
      "text/plain": [
       "'Aarti'"
      ]
     },
     "execution_count": 2,
     "metadata": {},
     "output_type": "execute_result"
    }
   ],
   "source": [
    "a = \"Aarti\" #Here variable named a is created to store a string type of data enclosed in double quote.\n",
    "a"
   ]
  },
  {
   "cell_type": "markdown",
   "id": "925295fc",
   "metadata": {},
   "source": [
    "(iii) In above example we can observe that no need of writting datatype of variable because python automatically identifies the type of data. But for string we need to eclosed our string by using single or double or triple quotation."
   ]
  },
  {
   "cell_type": "markdown",
   "id": "9c6a76e0",
   "metadata": {},
   "source": [
    "Q_(3):- Describe three different data types.                                                                                   \n",
    "Sol_3:- The three different datatypes in Python are:- i) Integer, ii) Complex and iii) List\n",
    "\n",
    "i) Integer:- It is a numeric datatype having integer type of data it may be whole, positive or negative number. It can be of any length. For exmaple:"
   ]
  },
  {
   "cell_type": "code",
   "execution_count": 3,
   "id": "0e912ef6",
   "metadata": {},
   "outputs": [
    {
     "data": {
      "text/plain": [
       "7"
      ]
     },
     "execution_count": 3,
     "metadata": {},
     "output_type": "execute_result"
    }
   ],
   "source": [
    "x = 7 # Here 7 is an integer type of data stored in memory\n",
    "x"
   ]
  },
  {
   "cell_type": "markdown",
   "id": "968189ee",
   "metadata": {},
   "source": [
    "ii) Complex:- It is numeric datatype having comlplex type of data written in form of x+yj where x shows real part and y shows imaginary part of it. For example:"
   ]
  },
  {
   "cell_type": "code",
   "execution_count": 4,
   "id": "0ae3d47a",
   "metadata": {},
   "outputs": [
    {
     "data": {
      "text/plain": [
       "(2+5j)"
      ]
     },
     "execution_count": 4,
     "metadata": {},
     "output_type": "execute_result"
    }
   ],
   "source": [
    "r = 2+5j # Here 2 is real and 5 is imaginary part of complex number\n",
    "r"
   ]
  },
  {
   "cell_type": "markdown",
   "id": "3f15007b",
   "metadata": {},
   "source": [
    "iii) List:- It is a sequence datatype which can store a set of values of any datatype which are surrounded by square brackets []. It is mutable(changeable), ordered sequence of elements. Elements can be accessed by using index just like a string. For example:"
   ]
  },
  {
   "cell_type": "code",
   "execution_count": 7,
   "id": "5d849beb",
   "metadata": {},
   "outputs": [
    {
     "name": "stdout",
     "output_type": "stream",
     "text": [
      "[4, 20.4, 'Aarti', 78, (4+9j)]\n"
     ]
    }
   ],
   "source": [
    "l = [4, 20.4, \"Aarti\", 78, 4+9j]  # Here l create a list\n",
    "print(l)"
   ]
  },
  {
   "cell_type": "code",
   "execution_count": 8,
   "id": "f84adb01",
   "metadata": {},
   "outputs": [
    {
     "data": {
      "text/plain": [
       "78"
      ]
     },
     "execution_count": 8,
     "metadata": {},
     "output_type": "execute_result"
    }
   ],
   "source": [
    "l[3]     # Here an element access by using its index value of 3"
   ]
  },
  {
   "cell_type": "markdown",
   "id": "249a3753",
   "metadata": {},
   "source": [
    "In above we observe three different datatypes, now we can check the type of data used by using type() function "
   ]
  },
  {
   "cell_type": "code",
   "execution_count": 9,
   "id": "3a861af6",
   "metadata": {},
   "outputs": [
    {
     "data": {
      "text/plain": [
       "list"
      ]
     },
     "execution_count": 9,
     "metadata": {},
     "output_type": "execute_result"
    }
   ],
   "source": [
    "type(l)"
   ]
  },
  {
   "cell_type": "code",
   "execution_count": 10,
   "id": "cd80e62f",
   "metadata": {},
   "outputs": [
    {
     "data": {
      "text/plain": [
       "complex"
      ]
     },
     "execution_count": 10,
     "metadata": {},
     "output_type": "execute_result"
    }
   ],
   "source": [
    "type(r)"
   ]
  },
  {
   "cell_type": "code",
   "execution_count": 11,
   "id": "fb3ea053",
   "metadata": {},
   "outputs": [
    {
     "data": {
      "text/plain": [
       "int"
      ]
     },
     "execution_count": 11,
     "metadata": {},
     "output_type": "execute_result"
    }
   ],
   "source": [
    "type(x)"
   ]
  },
  {
   "cell_type": "markdown",
   "id": "812ad449",
   "metadata": {},
   "source": [
    "Q_(4):- What is an expression made up of? What do all expressions do?                                                            \n",
    "Sol_4:- An expression is made up of operator and operands(data values). All expressions evaluate and give a result single value."
   ]
  },
  {
   "cell_type": "markdown",
   "id": "2388eccf",
   "metadata": {},
   "source": [
    "Q_(5):- This assignment statements, like spam = 10. What is the difference between an expression and a statement?                \n",
    "Sol_5:- An expression consist of operator and operand. But a statement is sequence of character character which will never further evaluate or reduce. In given line, \" This assignment statements, like\" is a statment(containing sequence of character) and \"spam = 10\" is an expression(containing  \"spam ,10\" as data and \"=\" as opertaor)"
   ]
  },
  {
   "cell_type": "markdown",
   "id": "e4b56738",
   "metadata": {},
   "source": [
    "Q_(6):- After running the following code, what does the variable bacon contain?                                                  \n",
    "bacon = 22                                                                                                                      \n",
    "bacon + 1                                                                                                                        \n",
    "Sol_6:-\n"
   ]
  },
  {
   "cell_type": "code",
   "execution_count": 12,
   "id": "c0892839",
   "metadata": {},
   "outputs": [
    {
     "data": {
      "text/plain": [
       "23"
      ]
     },
     "execution_count": 12,
     "metadata": {},
     "output_type": "execute_result"
    }
   ],
   "source": [
    "bacon = 22\n",
    "bacon +1"
   ]
  },
  {
   "cell_type": "code",
   "execution_count": 13,
   "id": "8bbfa190",
   "metadata": {},
   "outputs": [
    {
     "name": "stdout",
     "output_type": "stream",
     "text": [
      "22\n"
     ]
    }
   ],
   "source": [
    "print(bacon)"
   ]
  },
  {
   "cell_type": "markdown",
   "id": "a5e7c142",
   "metadata": {},
   "source": [
    "After running the given code it will give 23 but the variable bacon contain 22. This is so because variable bacon is not reassign the change in expression (bacon +1)."
   ]
  },
  {
   "cell_type": "markdown",
   "id": "68e19b44",
   "metadata": {},
   "source": [
    "Q_(7):- What should the values of the following two terms be?                                                                   \n",
    "'spam' + 'spamspam'                                                                                                              \n",
    "'spam' * 3                                                                                                                      \n",
    "Sol_7:- In first case 'spam'+'spamspam' , + act as concatination and it will concatenate two strings and give 'spamspamspam'.\n",
    "In second case 'spam' * 3, it will extend the string three times and give 'spamspamspam'. we can execute and see\n"
   ]
  },
  {
   "cell_type": "code",
   "execution_count": 14,
   "id": "2d135a0f",
   "metadata": {},
   "outputs": [
    {
     "data": {
      "text/plain": [
       "'spamspamspam'"
      ]
     },
     "execution_count": 14,
     "metadata": {},
     "output_type": "execute_result"
    }
   ],
   "source": [
    "'spam' +'spamspam'"
   ]
  },
  {
   "cell_type": "code",
   "execution_count": 15,
   "id": "7a16aeac",
   "metadata": {},
   "outputs": [
    {
     "data": {
      "text/plain": [
       "'spamspamspam'"
      ]
     },
     "execution_count": 15,
     "metadata": {},
     "output_type": "execute_result"
    }
   ],
   "source": [
    "'spam'*3"
   ]
  },
  {
   "cell_type": "markdown",
   "id": "485a4d6c",
   "metadata": {},
   "source": [
    "Q_(8):- Why is eggs a valid variable name while 100 is invalid?                                                                  \n",
    "Sol_8:-Because as we know variable cannot start with digit so thats why 100 is an invalid variable and eggs is a valid variable."
   ]
  },
  {
   "cell_type": "markdown",
   "id": "9050c9cc",
   "metadata": {},
   "source": [
    "Q_(9):- What three functions can be used to get the integer, floating-point number, or string version of a value?                \n",
    "Sol_9:- int() - used to get integer type of data                                                                               \n",
    "float() - used to get dloating type of data                                                                                     \n",
    "str() - used to get string type of data"
   ]
  },
  {
   "cell_type": "markdown",
   "id": "b72ee335",
   "metadata": {},
   "source": [
    "Q_(10):-Why does this expression cause an error? How can you fix it?\n",
    "'I have eaten ' + 99 + ' burritos.'                                                                                              \n",
    "Sol_10:- In given code line concatination is going to execute between string and integer type of data but it will show an error because concatination always happens between same datatype."
   ]
  }
 ],
 "metadata": {
  "kernelspec": {
   "display_name": "Python 3",
   "language": "python",
   "name": "python3"
  },
  "language_info": {
   "codemirror_mode": {
    "name": "ipython",
    "version": 3
   },
   "file_extension": ".py",
   "mimetype": "text/x-python",
   "name": "python",
   "nbconvert_exporter": "python",
   "pygments_lexer": "ipython3",
   "version": "3.8.8"
  }
 },
 "nbformat": 4,
 "nbformat_minor": 5
}
