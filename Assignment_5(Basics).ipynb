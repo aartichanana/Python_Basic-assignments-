{
 "cells": [
  {
   "cell_type": "markdown",
   "id": "76fb07ba",
   "metadata": {},
   "source": [
    "Q_(1):- What does an empty dictionary's code look like?                                                                         \n",
    "Sol_1:- d = {}"
   ]
  },
  {
   "cell_type": "markdown",
   "id": "924ec432",
   "metadata": {},
   "source": [
    "Q_(2):- What is the value of a dictionary value with the key 'foo' and the value 42?                                           \n",
    "Sol_2:- dv = {'foo':42}"
   ]
  },
  {
   "cell_type": "code",
   "execution_count": 2,
   "id": "47a943ae",
   "metadata": {},
   "outputs": [
    {
     "data": {
      "text/plain": [
       "{'foo': 42}"
      ]
     },
     "execution_count": 2,
     "metadata": {},
     "output_type": "execute_result"
    }
   ],
   "source": [
    "dv = {'foo':42}\n",
    "dv"
   ]
  },
  {
   "cell_type": "markdown",
   "id": "71ed072e",
   "metadata": {},
   "source": [
    "Q_(3):- What is the most significant distinction between a dictionary and a list?                                               \n",
    "Sol_3:- The most significant distinction between dictionary and list is:                                                       \n",
    "Dictionaries are unordered sets due to which we can access items by using keys name as their index. But list is an ordered sequence of elements for which we are able to access their elements by using their index number."
   ]
  },
  {
   "cell_type": "markdown",
   "id": "d94e206d",
   "metadata": {},
   "source": [
    "Q_(4):- What happens if you try to access spam['foo'] if spam is {'bar': 100}?                                                 \n",
    "Sol_4:- It will give me a keyerror. Because 'foo' key is not present in spam dictionary. "
   ]
  },
  {
   "cell_type": "markdown",
   "id": "b47c7f97",
   "metadata": {},
   "source": [
    "Q_(5):- If a dictionary is stored in spam, what is the difference between the expressions 'cat' in spam and 'cat' in spam.keys()?                                                                                                                   \n",
    "Sol_5:- No there is no difference both expressions 'cat' in spam and 'cat' in spam.keys() Checks whether there is a key named 'cat' is present in spam dictioanry."
   ]
  },
  {
   "cell_type": "markdown",
   "id": "5ff32d60",
   "metadata": {},
   "source": [
    "Q_(6):- If a dictionary is stored in spam, what is the difference between the expressions 'cat' in spam and 'cat' in spam.values()?                                                                                                                 \n",
    "Sol_6:- 'cat' in spam- It check any ke name 'cat' is present in spam dictionary or not.                                         \n",
    "'cat' in spam.values()- It check whether there is a value named 'cat' present for any one of the keys in spam dictionary.\n"
   ]
  },
  {
   "cell_type": "markdown",
   "id": "24a894e7",
   "metadata": {},
   "source": [
    "Q_(7):- What is a shortcut for the following code?\n",
    "if 'color' not in spam:\n",
    "spam['color'] = 'black'                                                                                                         \n",
    "Sol_7:- spam.setdefault('color','black')"
   ]
  },
  {
   "cell_type": "markdown",
   "id": "ecd619d5",
   "metadata": {},
   "source": [
    "Q_(8):- How do you \"pretty print\" dictionary values using which module and function?                                           \n",
    "Sol_8:- By using - pprint.pprint()"
   ]
  }
 ],
 "metadata": {
  "kernelspec": {
   "display_name": "Python 3",
   "language": "python",
   "name": "python3"
  },
  "language_info": {
   "codemirror_mode": {
    "name": "ipython",
    "version": 3
   },
   "file_extension": ".py",
   "mimetype": "text/x-python",
   "name": "python",
   "nbconvert_exporter": "python",
   "pygments_lexer": "ipython3",
   "version": "3.8.8"
  }
 },
 "nbformat": 4,
 "nbformat_minor": 5
}
